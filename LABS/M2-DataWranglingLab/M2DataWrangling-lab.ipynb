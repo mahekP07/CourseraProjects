{
  "cells": [
    {
      "cell_type": "markdown",
      "metadata": {},
      "source": [
        "<p style=\"text-align:center\">\n",
        "    <a href=\"https://skills.network/?utm_medium=Exinfluencer&utm_source=Exinfluencer&utm_content=000026UJ&utm_term=10006555&utm_id=NA-SkillsNetwork-Channel-SkillsNetworkCoursesIBMDA0321ENSkillsNetwork928-2022-01-01\" target=\"_blank\">\n",
        "    <img src=\"https://cf-courses-data.s3.us.cloud-object-storage.appdomain.cloud/assets/logos/SN_web_lightmode.png\" width=\"400\" alt=\"Skills Network Logo\"  />\n",
        "    </a>\n",
        "</p>\n"
      ]
    },
    {
      "cell_type": "markdown",
      "metadata": {},
      "source": [
        "# **Data Wrangling Lab**\n"
      ]
    },
    {
      "cell_type": "markdown",
      "metadata": {},
      "source": [
        "Estimated time needed: **45 to 60** minutes\n"
      ]
    },
    {
      "cell_type": "markdown",
      "metadata": {},
      "source": [
        "In this assignment you will be performing data wrangling.\n"
      ]
    },
    {
      "cell_type": "markdown",
      "metadata": {},
      "source": [
        "## Objectives\n"
      ]
    },
    {
      "cell_type": "markdown",
      "metadata": {},
      "source": [
        "In this lab you will perform the following:\n"
      ]
    },
    {
      "cell_type": "markdown",
      "metadata": {},
      "source": [
        "-   Identify duplicate values in the dataset.\n",
        "\n",
        "-   Remove duplicate values from the dataset.\n",
        "\n",
        "-   Identify missing values in the dataset.\n",
        "\n",
        "-   Impute the missing values in the dataset.\n",
        "\n",
        "-   Normalize data in the dataset.\n"
      ]
    },
    {
      "cell_type": "markdown",
      "metadata": {},
      "source": [
        "<hr>\n"
      ]
    },
    {
      "cell_type": "markdown",
      "metadata": {},
      "source": [
        "## Hands on Lab\n"
      ]
    },
    {
      "cell_type": "markdown",
      "metadata": {},
      "source": [
        "Import pandas module.\n"
      ]
    },
    {
      "cell_type": "code",
      "execution_count": 1,
      "metadata": {
        "trusted": true
      },
      "outputs": [],
      "source": [
        "import pandas as pd\n",
        "import warnings\n",
        "warnings.filterwarnings(\"ignore\")"
      ]
    },
    {
      "cell_type": "markdown",
      "metadata": {},
      "source": [
        "Load the dataset into a dataframe.\n"
      ]
    },
    {
      "cell_type": "markdown",
      "metadata": {},
      "source": [
        "<h2>Read Data</h2>\n",
        "<p>\n",
        "We utilize the <code>pandas.read_csv()</code> function for reading CSV files. However, in this version of the lab, which operates on JupyterLite, the dataset needs to be downloaded to the interface using the provided code below.\n",
        "</p>\n"
      ]
    },
    {
      "cell_type": "markdown",
      "metadata": {},
      "source": [
        "The functions below will download the dataset into your browser:\n"
      ]
    },
    {
      "cell_type": "code",
      "execution_count": 7,
      "metadata": {
        "trusted": true
      },
      "outputs": [],
      "source": [
        "\n",
        "# from pyodide.http import pyfetch\n",
        "\n",
        "# async def download(url, filename):\n",
        "#     response = await pyfetch(url)\n",
        "#     if response.status == 200:\n",
        "#         with open(filename, \"wb\") as f:\n",
        "#             f.write(await response.bytes())\n",
        "\n",
        "import requests\n",
        "\n",
        "def download(url, filename):\n",
        "    response = requests.get(url)\n",
        "    if response.status_code == 200:\n",
        "        with open(filename, \"wb\") as f:\n",
        "            f.write(response.content)\n",
        "    else:\n",
        "        print(f\"Failed to download file: {response.status_code}\")"
      ]
    },
    {
      "cell_type": "code",
      "execution_count": 8,
      "metadata": {
        "trusted": true
      },
      "outputs": [],
      "source": [
        "file_path = \"https://cf-courses-data.s3.us.cloud-object-storage.appdomain.cloud/IBM-DA0321EN-SkillsNetwork/LargeData/m1_survey_data.csv\""
      ]
    },
    {
      "cell_type": "markdown",
      "metadata": {},
      "source": [
        "To obtain the dataset, utilize the download() function as defined above:  \n"
      ]
    },
    {
      "cell_type": "code",
      "execution_count": 10,
      "metadata": {
        "trusted": true
      },
      "outputs": [],
      "source": [
        "# await download(file_path, \"m1_survey_data.csv\")\n",
        "download(file_path, \"m1_survey_data.csv\")\n",
        "file_name=\"m1_survey_data.csv\""
      ]
    },
    {
      "cell_type": "markdown",
      "metadata": {},
      "source": [
        "Utilize the Pandas method read_csv() to load the data into a dataframe.\n"
      ]
    },
    {
      "cell_type": "code",
      "execution_count": 11,
      "metadata": {
        "trusted": true
      },
      "outputs": [],
      "source": [
        "df = pd.read_csv(file_name)"
      ]
    },
    {
      "cell_type": "markdown",
      "metadata": {},
      "source": [
        "> Note: This version of the lab is working on JupyterLite, which requires the dataset to be downloaded to the interface.While working on the downloaded version of this notebook on their local machines(Jupyter Anaconda), the learners can simply **skip the steps above,** and simply use the URL directly in the `pandas.read_csv()` function. You can uncomment and run the statements in the cell below.\n"
      ]
    },
    {
      "cell_type": "code",
      "execution_count": null,
      "metadata": {},
      "outputs": [],
      "source": [
        "#df = pd.read_csv(\"https://cf-courses-data.s3.us.cloud-object-storage.appdomain.cloud/IBM-DA0321EN-SkillsNetwork/LargeData/m1_survey_data.csv\")"
      ]
    },
    {
      "cell_type": "markdown",
      "metadata": {},
      "source": [
        "## Finding duplicates\n"
      ]
    },
    {
      "cell_type": "markdown",
      "metadata": {},
      "source": [
        "In this section you will identify duplicate values in the dataset.\n"
      ]
    },
    {
      "cell_type": "markdown",
      "metadata": {},
      "source": [
        " Find how many duplicate rows exist in the dataframe.\n"
      ]
    },
    {
      "cell_type": "code",
      "execution_count": 14,
      "metadata": {
        "trusted": true
      },
      "outputs": [
        {
          "data": {
            "text/plain": [
              "np.int64(154)"
            ]
          },
          "execution_count": 14,
          "metadata": {},
          "output_type": "execute_result"
        }
      ],
      "source": [
        "dupRows = df.duplicated().sum()\n",
        "dupRows\n",
        "\n",
        "# dupRows = df['Respondent'].duplicated().sum()\n",
        "# dupRows"
      ]
    },
    {
      "cell_type": "markdown",
      "metadata": {},
      "source": [
        "## Removing duplicates\n"
      ]
    },
    {
      "cell_type": "markdown",
      "metadata": {},
      "source": [
        "Remove the duplicate rows from the dataframe.\n"
      ]
    },
    {
      "cell_type": "code",
      "execution_count": 15,
      "metadata": {
        "trusted": true
      },
      "outputs": [
        {
          "name": "stdout",
          "output_type": "stream",
          "text": [
            "       Respondent                      MainBranch Hobbyist  \\\n",
            "0               4  I am a developer by profession       No   \n",
            "1               9  I am a developer by profession      Yes   \n",
            "2              13  I am a developer by profession      Yes   \n",
            "3              16  I am a developer by profession      Yes   \n",
            "4              17  I am a developer by profession      Yes   \n",
            "...           ...                             ...      ...   \n",
            "11547       25136  I am a developer by profession      Yes   \n",
            "11548       25137  I am a developer by profession      Yes   \n",
            "11549       25138  I am a developer by profession      Yes   \n",
            "11550       25141  I am a developer by profession      Yes   \n",
            "11551       25142  I am a developer by profession      Yes   \n",
            "\n",
            "                                             OpenSourcer  \\\n",
            "0                                                  Never   \n",
            "1                             Once a month or more often   \n",
            "2      Less than once a month but more than once per ...   \n",
            "3                                                  Never   \n",
            "4      Less than once a month but more than once per ...   \n",
            "...                                                  ...   \n",
            "11547                                              Never   \n",
            "11548                                              Never   \n",
            "11549                            Less than once per year   \n",
            "11550  Less than once a month but more than once per ...   \n",
            "11551  Less than once a month but more than once per ...   \n",
            "\n",
            "                                              OpenSource          Employment  \\\n",
            "0      The quality of OSS and closed source software ...  Employed full-time   \n",
            "1      The quality of OSS and closed source software ...  Employed full-time   \n",
            "2      OSS is, on average, of HIGHER quality than pro...  Employed full-time   \n",
            "3      The quality of OSS and closed source software ...  Employed full-time   \n",
            "4      The quality of OSS and closed source software ...  Employed full-time   \n",
            "...                                                  ...                 ...   \n",
            "11547  OSS is, on average, of HIGHER quality than pro...  Employed full-time   \n",
            "11548  The quality of OSS and closed source software ...  Employed full-time   \n",
            "11549  The quality of OSS and closed source software ...  Employed full-time   \n",
            "11550  OSS is, on average, of LOWER quality than prop...  Employed full-time   \n",
            "11551  OSS is, on average, of HIGHER quality than pro...  Employed full-time   \n",
            "\n",
            "              Country Student  \\\n",
            "0       United States      No   \n",
            "1         New Zealand      No   \n",
            "2       United States      No   \n",
            "3      United Kingdom      No   \n",
            "4           Australia      No   \n",
            "...               ...     ...   \n",
            "11547   United States      No   \n",
            "11548          Poland      No   \n",
            "11549   United States      No   \n",
            "11550     Switzerland      No   \n",
            "11551  United Kingdom      No   \n",
            "\n",
            "                                                 EdLevel  \\\n",
            "0               Bachelor’s degree (BA, BS, B.Eng., etc.)   \n",
            "1      Some college/university study without earning ...   \n",
            "2            Master’s degree (MA, MS, M.Eng., MBA, etc.)   \n",
            "3            Master’s degree (MA, MS, M.Eng., MBA, etc.)   \n",
            "4               Bachelor’s degree (BA, BS, B.Eng., etc.)   \n",
            "...                                                  ...   \n",
            "11547        Master’s degree (MA, MS, M.Eng., MBA, etc.)   \n",
            "11548        Master’s degree (MA, MS, M.Eng., MBA, etc.)   \n",
            "11549        Master’s degree (MA, MS, M.Eng., MBA, etc.)   \n",
            "11550  Secondary school (e.g. American high school, G...   \n",
            "11551          Other doctoral degree (Ph.D, Ed.D., etc.)   \n",
            "\n",
            "                                          UndergradMajor  ...  \\\n",
            "0      Computer science, computer engineering, or sof...  ...   \n",
            "1      Computer science, computer engineering, or sof...  ...   \n",
            "2      Computer science, computer engineering, or sof...  ...   \n",
            "3                                                    NaN  ...   \n",
            "4      Computer science, computer engineering, or sof...  ...   \n",
            "...                                                  ...  ...   \n",
            "11547  Computer science, computer engineering, or sof...  ...   \n",
            "11548  Computer science, computer engineering, or sof...  ...   \n",
            "11549  Computer science, computer engineering, or sof...  ...   \n",
            "11550                                                NaN  ...   \n",
            "11551  A natural science (ex. biology, chemistry, phy...  ...   \n",
            "\n",
            "                                  WelcomeChange  \\\n",
            "0       Just as welcome now as I felt last year   \n",
            "1       Just as welcome now as I felt last year   \n",
            "2      Somewhat more welcome now than last year   \n",
            "3       Just as welcome now as I felt last year   \n",
            "4       Just as welcome now as I felt last year   \n",
            "...                                         ...   \n",
            "11547   Just as welcome now as I felt last year   \n",
            "11548     A lot more welcome now than last year   \n",
            "11549     A lot more welcome now than last year   \n",
            "11550  Somewhat less welcome now than last year   \n",
            "11551   Just as welcome now as I felt last year   \n",
            "\n",
            "                                            SONewContent   Age Gender Trans  \\\n",
            "0      Tech articles written by other developers;Indu...  22.0    Man    No   \n",
            "1                                                    NaN  23.0    Man    No   \n",
            "2      Tech articles written by other developers;Cour...  28.0    Man    No   \n",
            "3      Tech articles written by other developers;Indu...  26.0    Man    No   \n",
            "4      Tech articles written by other developers;Indu...  29.0    Man    No   \n",
            "...                                                  ...   ...    ...   ...   \n",
            "11547  Tech articles written by other developers;Cour...  36.0    Man    No   \n",
            "11548  Tech articles written by other developers;Tech...  25.0    Man    No   \n",
            "11549  Tech articles written by other developers;Indu...  34.0    Man    No   \n",
            "11550                                                NaN  25.0    Man    No   \n",
            "11551  Tech articles written by other developers;Tech...  30.0    Man    No   \n",
            "\n",
            "                     Sexuality                              Ethnicity  \\\n",
            "0      Straight / Heterosexual           White or of European descent   \n",
            "1                     Bisexual           White or of European descent   \n",
            "2      Straight / Heterosexual           White or of European descent   \n",
            "3      Straight / Heterosexual           White or of European descent   \n",
            "4      Straight / Heterosexual  Hispanic or Latino/Latina;Multiracial   \n",
            "...                        ...                                    ...   \n",
            "11547  Straight / Heterosexual           White or of European descent   \n",
            "11548  Straight / Heterosexual           White or of European descent   \n",
            "11549  Straight / Heterosexual           White or of European descent   \n",
            "11550  Straight / Heterosexual           White or of European descent   \n",
            "11551                 Bisexual           White or of European descent   \n",
            "\n",
            "      Dependents           SurveyLength                  SurveyEase  \n",
            "0             No  Appropriate in length                        Easy  \n",
            "1             No  Appropriate in length  Neither easy nor difficult  \n",
            "2            Yes  Appropriate in length                        Easy  \n",
            "3             No  Appropriate in length  Neither easy nor difficult  \n",
            "4             No  Appropriate in length                        Easy  \n",
            "...          ...                    ...                         ...  \n",
            "11547         No  Appropriate in length                   Difficult  \n",
            "11548         No  Appropriate in length  Neither easy nor difficult  \n",
            "11549        Yes               Too long                        Easy  \n",
            "11550         No  Appropriate in length                        Easy  \n",
            "11551         No  Appropriate in length                        Easy  \n",
            "\n",
            "[11398 rows x 85 columns]\n"
          ]
        }
      ],
      "source": [
        "df.drop_duplicates(inplace=True)\n",
        "print(df)"
      ]
    },
    {
      "cell_type": "markdown",
      "metadata": {},
      "source": [
        "Verify if duplicates were actually dropped.\n"
      ]
    },
    {
      "cell_type": "code",
      "execution_count": 19,
      "metadata": {
        "trusted": true
      },
      "outputs": [
        {
          "data": {
            "text/plain": [
              "11398"
            ]
          },
          "execution_count": 19,
          "metadata": {},
          "output_type": "execute_result"
        }
      ],
      "source": [
        "# df.shape #before was (11552 X 85)\n",
        "df['Respondent'].nunique()"
      ]
    },
    {
      "cell_type": "markdown",
      "metadata": {},
      "source": [
        "## Finding Missing values\n"
      ]
    },
    {
      "cell_type": "markdown",
      "metadata": {},
      "source": [
        "Find the missing values for all columns.\n"
      ]
    },
    {
      "cell_type": "code",
      "execution_count": 21,
      "metadata": {
        "trusted": true
      },
      "outputs": [
        {
          "data": {
            "text/plain": [
              "Respondent        0\n",
              "MainBranch        0\n",
              "Hobbyist          0\n",
              "OpenSourcer       0\n",
              "OpenSource       81\n",
              "               ... \n",
              "Sexuality       542\n",
              "Ethnicity       675\n",
              "Dependents      140\n",
              "SurveyLength     19\n",
              "SurveyEase       14\n",
              "Length: 85, dtype: int64"
            ]
          },
          "execution_count": 21,
          "metadata": {},
          "output_type": "execute_result"
        }
      ],
      "source": [
        "miss = df.isnull().sum()\n",
        "miss"
      ]
    },
    {
      "cell_type": "markdown",
      "metadata": {},
      "source": [
        "Find out how many rows are missing in the column 'WorkLoc'\n"
      ]
    },
    {
      "cell_type": "code",
      "execution_count": 23,
      "metadata": {
        "trusted": true
      },
      "outputs": [
        {
          "data": {
            "text/plain": [
              "np.int64(32)"
            ]
          },
          "execution_count": 23,
          "metadata": {},
          "output_type": "execute_result"
        }
      ],
      "source": [
        "missRows = df['WorkLoc'].isnull().sum()\n",
        "missRows"
      ]
    },
    {
      "cell_type": "markdown",
      "metadata": {},
      "source": [
        "## Imputing missing values\n"
      ]
    },
    {
      "cell_type": "markdown",
      "metadata": {},
      "source": [
        "Find the  value counts for the column WorkLoc.\n"
      ]
    },
    {
      "cell_type": "code",
      "execution_count": 25,
      "metadata": {
        "trusted": true
      },
      "outputs": [
        {
          "data": {
            "text/plain": [
              "WorkLoc\n",
              "Office                                            6806\n",
              "Home                                              3589\n",
              "Other place, such as a coworking space or cafe     971\n",
              "Name: count, dtype: int64"
            ]
          },
          "execution_count": 26,
          "metadata": {},
          "output_type": "execute_result"
        }
      ],
      "source": [
        "df['WorkLoc'].value_counts()\n",
        "# df['UndergradMajor'].value_counts()"
      ]
    },
    {
      "cell_type": "markdown",
      "metadata": {},
      "source": [
        "Identify the value that is most frequent (majority) in the WorkLoc column.\n"
      ]
    },
    {
      "cell_type": "code",
      "execution_count": 29,
      "metadata": {
        "trusted": true
      },
      "outputs": [
        {
          "data": {
            "text/plain": [
              "'Office'"
            ]
          },
          "execution_count": 29,
          "metadata": {},
          "output_type": "execute_result"
        }
      ],
      "source": [
        "ReplaceByVC = df['WorkLoc'].value_counts().idxmax()\n",
        "ReplaceByVC"
      ]
    },
    {
      "cell_type": "markdown",
      "metadata": {},
      "source": [
        "Impute (replace) all the empty rows in the column WorkLoc with the value that you have identified as majority.\n"
      ]
    },
    {
      "cell_type": "code",
      "execution_count": 31,
      "metadata": {
        "trusted": true
      },
      "outputs": [],
      "source": [
        "import numpy as np\n",
        "df['WorkLoc'].replace(np.nan,ReplaceByVC,inplace=True)"
      ]
    },
    {
      "cell_type": "markdown",
      "metadata": {},
      "source": [
        "After imputation there should ideally not be any empty rows in the WorkLoc column.\n"
      ]
    },
    {
      "cell_type": "markdown",
      "metadata": {},
      "source": [
        "Verify if imputing was successful.\n"
      ]
    },
    {
      "cell_type": "code",
      "execution_count": 32,
      "metadata": {
        "trusted": true
      },
      "outputs": [
        {
          "data": {
            "text/plain": [
              "np.int64(0)"
            ]
          },
          "execution_count": 32,
          "metadata": {},
          "output_type": "execute_result"
        }
      ],
      "source": [
        "df['WorkLoc'].isnull().sum()\n",
        "#Initially we got 32 rows with a null value and now its 0."
      ]
    },
    {
      "cell_type": "markdown",
      "metadata": {},
      "source": [
        "## Normalizing data\n"
      ]
    },
    {
      "cell_type": "markdown",
      "metadata": {},
      "source": [
        "There are two columns in the dataset that talk about compensation.\n",
        "\n",
        "One is \"CompFreq\". This column shows how often a developer is paid (Yearly, Monthly, Weekly).\n",
        "\n",
        "The other is \"CompTotal\". This column talks about how much the developer is paid per Year, Month, or Week depending upon his/her \"CompFreq\". \n",
        "\n",
        "This makes it difficult to compare the total compensation of the developers.\n",
        "\n",
        "In this section you will create a new column called 'NormalizedAnnualCompensation' which contains the 'Annual Compensation' irrespective of the 'CompFreq'.\n",
        "\n",
        "Once this column is ready, it makes comparison of salaries easy.\n"
      ]
    },
    {
      "cell_type": "markdown",
      "metadata": {},
      "source": [
        "<hr>\n"
      ]
    },
    {
      "cell_type": "markdown",
      "metadata": {},
      "source": [
        "List out the various categories in the column 'CompFreq'\n"
      ]
    },
    {
      "cell_type": "code",
      "execution_count": 33,
      "metadata": {
        "trusted": true
      },
      "outputs": [
        {
          "data": {
            "text/plain": [
              "array(['Yearly', 'Monthly', 'Weekly', nan], dtype=object)"
            ]
          },
          "execution_count": 33,
          "metadata": {},
          "output_type": "execute_result"
        }
      ],
      "source": [
        "category = df['CompFreq'].unique()\n",
        "category\n",
        "\n",
        "# maxCategory = df['CompFreq'].value_counts().idxmax()\n",
        "# df['CompFreq'].replace(np.NaN,maxCategory,inplace=True)\n",
        "\n",
        "# df['CompFreq'].isnull().sum()"
      ]
    },
    {
      "cell_type": "markdown",
      "metadata": {},
      "source": [
        "Create a new column named 'NormalizedAnnualCompensation'. Use the hint given below if needed.\n"
      ]
    },
    {
      "cell_type": "markdown",
      "metadata": {},
      "source": [
        "Double click to see the **Hint**.\n",
        "\n",
        "<!--\n",
        "\n",
        "Use the below logic to arrive at the values for the column NormalizedAnnualCompensation.\n",
        "\n",
        "If the CompFreq is Yearly then use the exising value in CompTotal\n",
        "If the CompFreq is Monthly then multiply the value in CompTotal with 12 (months in an year)\n",
        "If the CompFreq is Weekly then multiply the value in CompTotal with 52 (weeks in an year)\n",
        "\n",
        "-->\n"
      ]
    },
    {
      "cell_type": "code",
      "execution_count": 36,
      "metadata": {
        "trusted": true
      },
      "outputs": [
        {
          "data": {
            "text/plain": [
              "np.float64(100000.0)"
            ]
          },
          "execution_count": 36,
          "metadata": {},
          "output_type": "execute_result"
        }
      ],
      "source": [
        "def normalizedComp (compValue):\n",
        "    if compValue['CompFreq'] == 'Yearly':\n",
        "        return compValue['CompTotal']\n",
        "    elif compValue['CompFreq'] ==  'Monthly':\n",
        "        return compValue['CompTotal'] * 12\n",
        "    else:\n",
        "        return compValue['CompTotal'] * 52\n",
        "\n",
        "df['NormalizedAnnualCompensation'] = df.apply(normalizedComp,axis=1)\n",
        "\n",
        "med = df['NormalizedAnnualCompensation'].median()\n",
        "med\n",
        "# df.to_csv('m1_survey_data.csv',index=False)\n",
        "# df.head()"
      ]
    },
    {
      "cell_type": "markdown",
      "metadata": {},
      "source": [
        "## Authors\n"
      ]
    },
    {
      "cell_type": "markdown",
      "metadata": {},
      "source": [
        "Ramesh Sannareddy\n"
      ]
    },
    {
      "cell_type": "markdown",
      "metadata": {},
      "source": [
        "### Other Contributors\n"
      ]
    },
    {
      "cell_type": "markdown",
      "metadata": {},
      "source": [
        "Rav Ahuja\n"
      ]
    },
    {
      "cell_type": "markdown",
      "metadata": {},
      "source": [
        " ## Change Log\n"
      ]
    },
    {
      "cell_type": "markdown",
      "metadata": {},
      "source": [
        "|Date (YYYY-MM-DD)|Version|Changed By|Change Description|\n",
        "|-|-|-|-|\n",
        "|2024-09-24|1.1|Madhusudhan Moole|Updated lab|\n",
        "|2024-09-23|1.0|Raghul Ramesh|Created lab|\n"
      ]
    },
    {
      "cell_type": "markdown",
      "metadata": {},
      "source": [
        "<!--| Date (YYYY-MM-DD) | Version | Changed By        | Change Description                 |\n",
        "| ----------------- | ------- | ----------------- | ---------------------------------- |\n",
        "| 2020-10-17        | 0.1     | Ramesh Sannareddy | Created initial version of the lab |--!>\n"
      ]
    },
    {
      "cell_type": "markdown",
      "metadata": {},
      "source": [
        "## <h3 align=\"center\"> © IBM Corporation. All rights reserved. <h3/>\n"
      ]
    }
  ],
  "metadata": {
    "kernelspec": {
      "display_name": "Python 3",
      "language": "python",
      "name": "python3"
    },
    "language_info": {
      "codemirror_mode": {
        "name": "ipython",
        "version": 3
      },
      "file_extension": ".py",
      "mimetype": "text/x-python",
      "name": "python",
      "nbconvert_exporter": "python",
      "pygments_lexer": "ipython3",
      "version": "3.12.6"
    },
    "prev_pub_hash": "fee3cd0da99af27f7f7a8d9c340e8e78f253ffc32a2251cadcb6968f21d952d5"
  },
  "nbformat": 4,
  "nbformat_minor": 4
}
