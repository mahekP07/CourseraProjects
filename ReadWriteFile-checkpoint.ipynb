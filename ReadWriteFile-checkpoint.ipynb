{
 "cells": [
  {
   "cell_type": "markdown",
   "id": "d8ae5250-cb12-4f99-85b9-039d2b481dfd",
   "metadata": {},
   "source": [
    "                                                        Writing and Reading Files\n",
    "\n",
    "Your local university's Raptors fan club maintains a register of its active members on a .txt document. Every month they update the file by removing the members who are not active. You have been tasked with automating this with your Python skills.\r\n",
    "Given the file currentMem, Remove each member with a 'no' in their Active column. Keep track of each of the removed members and append them to the exMem file. Make sure that the format of the original files in preserved. (Hint: Do this by reading/writing whole lines and ensuring the header remains )\r\n",
    "Run the code block below prior to starting the exercise. The skeleton code has been provided for you. Edit only the cleanFiles function."
   ]
  },
  {
   "cell_type": "code",
   "execution_count": 12,
   "id": "8fc40995-3f1e-4a61-af78-85362017c14a",
   "metadata": {},
   "outputs": [
    {
     "name": "stdout",
     "output_type": "stream",
     "text": [
      "Updated current members (members.txt):\n",
      "Membership No  Date Joined  Active  \n",
      "    91795      2019-12-09   yes   \n",
      "    95003      2017-11-18   yes   \n",
      "    99416      2017-08-07   yes   \n",
      "    78800      2016-11-05   yes   \n",
      "    76754      2019-08-18   yes   \n",
      "    88870      2016-04-06   yes   \n",
      "    52286      2017-09-12   yes   \n",
      "    30603      2019-08-03   yes   \n",
      "    66721      2018-05-24   yes   \n",
      "    64864      2017-02-18   yes   \n",
      "    28637      2015-04-10   yes   \n",
      "    28521      2016-02-25   yes   \n",
      "\n",
      "\n",
      "Inactive members (inactive.txt):\n",
      "Membership No  Date Joined  Active  \n",
      "    25958      2017-03-10   no    \n",
      "    73204      2016-09-19   no    \n",
      "    48666      2016-07-04   no    \n",
      "    65352      2019-12-03   no    \n",
      "    11631      2019-08-05   no    \n",
      "    30566      2015-03-13   no    \n",
      "    99409      2018-01-22   no    \n",
      "    85790      2020-11-17   no    \n",
      "    38787      2019-09-16   no    \n",
      "    78336      2019-06-14   no    \n",
      "    81537      2020-09-15   no    \n",
      "\n"
     ]
    }
   ],
   "source": [
    "from random import randint as rnd\n",
    "\n",
    "# File paths (use absolute paths or ensure the files are in the current directory)\n",
    "memReg = 'members.txt'\n",
    "exReg = 'inactive.txt'\n",
    "fee = ('yes', 'no')\n",
    "\n",
    "# Generate the initial files\n",
    "def genFiles(current, old):\n",
    "    with open(current, 'w+') as writefile: \n",
    "        writefile.write('Membership No  Date Joined  Active  \\n')\n",
    "        data = \"{:^13}  {:<11}  {:<6}\\n\"\n",
    "        for rowno in range(20):\n",
    "            date = str(rnd(2015,2020)) + '-' + str(rnd(1,12)).zfill(2) + '-' + str(rnd(1,25)).zfill(2)\n",
    "            writefile.write(data.format(rnd(10000,99999), date, fee[rnd(0,1)]))\n",
    "\n",
    "    with open(old, 'w+') as writefile: \n",
    "        writefile.write('Membership No  Date Joined  Active  \\n')\n",
    "        data = \"{:^13}  {:<11}  {:<6}\\n\"\n",
    "        for rowno in range(3):\n",
    "            date = str(rnd(2015,2020)) + '-' + str(rnd(1,12)).zfill(2) + '-' + str(rnd(1,25)).zfill(2)\n",
    "            writefile.write(data.format(rnd(10000,99999), date, fee[1]))\n",
    "\n",
    "genFiles(memReg, exReg)\n",
    "\n",
    "# Function to clean the files\n",
    "def cleanFiles(currentMem, exMem):\n",
    "    # Open the current members file\n",
    "    with open(currentMem, 'r') as readfile:\n",
    "        lines = readfile.readlines()\n",
    "    \n",
    "    # Write the header to the updated current members file\n",
    "    with open(currentMem, 'w') as writefile:\n",
    "        writefile.write(lines[0])\n",
    "    \n",
    "    # Open the inactive members file in append mode\n",
    "    with open(exMem, 'a') as appendfile:\n",
    "        # Iterate over the lines in the current members file\n",
    "        for line in lines[1:]:  # Skip the header\n",
    "            # Check if the member is active\n",
    "            if 'no' in line:\n",
    "                # If not active, write to the inactive members file\n",
    "                appendfile.write(line)\n",
    "            else:\n",
    "                # If active, write back to the updated current members file\n",
    "                with open(currentMem, 'a') as writefile:\n",
    "                    writefile.write(line)\n",
    "\n",
    "# Run the cleanFiles function\n",
    "cleanFiles(memReg, exReg)\n",
    "\n",
    "# Let's check the content of the files after the operation\n",
    "print(\"Updated current members (members.txt):\")\n",
    "with open(memReg, 'r') as f:\n",
    "    print(f.read())\n",
    "\n",
    "print(\"\\nInactive members (inactive.txt):\")\n",
    "with open(exReg, 'r') as f:\n",
    "    print(f.read())\n"
   ]
  },
  {
   "cell_type": "code",
   "execution_count": null,
   "id": "94963da8-c50d-4382-93ce-2ea669ba5f93",
   "metadata": {},
   "outputs": [],
   "source": []
  },
  {
   "cell_type": "code",
   "execution_count": null,
   "id": "41640cdb-d1f0-4c47-a164-fb8d25f59fce",
   "metadata": {},
   "outputs": [],
   "source": []
  }
 ],
 "metadata": {
  "kernelspec": {
   "display_name": "Python 3 (ipykernel)",
   "language": "python",
   "name": "python3"
  },
  "language_info": {
   "codemirror_mode": {
    "name": "ipython",
    "version": 3
   },
   "file_extension": ".py",
   "mimetype": "text/x-python",
   "name": "python",
   "nbconvert_exporter": "python",
   "pygments_lexer": "ipython3",
   "version": "3.12.4"
  }
 },
 "nbformat": 4,
 "nbformat_minor": 5
}
