{
 "cells": [
  {
   "cell_type": "code",
   "execution_count": 1,
   "id": "7cc021a9-bbda-4fe6-af68-a963bd74a9ab",
   "metadata": {},
   "outputs": [],
   "source": [
    "fruit=[\"apple\",\"mango\"]"
   ]
  },
  {
   "cell_type": "code",
   "execution_count": 3,
   "id": "75dd1aea-08e7-4487-8040-ff87137e1bb2",
   "metadata": {},
   "outputs": [
    {
     "data": {
      "text/plain": [
       "['apple', 'mango']"
      ]
     },
     "execution_count": 3,
     "metadata": {},
     "output_type": "execute_result"
    }
   ],
   "source": [
    "fruit"
   ]
  },
  {
   "cell_type": "code",
   "execution_count": 5,
   "id": "43cc44ba-82b4-483a-90ad-89ec89bfac55",
   "metadata": {},
   "outputs": [],
   "source": [
    "fruit.extend(\"Kiwi\")"
   ]
  },
  {
   "cell_type": "code",
   "execution_count": 7,
   "id": "8f15d1a7-2f97-4e7c-ad84-b5fec735f788",
   "metadata": {},
   "outputs": [
    {
     "data": {
      "text/plain": [
       "['apple', 'mango', 'K', 'i', 'w', 'i']"
      ]
     },
     "execution_count": 7,
     "metadata": {},
     "output_type": "execute_result"
    }
   ],
   "source": [
    "fruit"
   ]
  },
  {
   "cell_type": "code",
   "execution_count": 9,
   "id": "0bca0b32-f3f3-492b-ba96-089c5b9458f0",
   "metadata": {},
   "outputs": [],
   "source": [
    "del(fruit[2:6])"
   ]
  },
  {
   "cell_type": "code",
   "execution_count": 11,
   "id": "e28dd063-87df-469f-8a95-520636e6ea08",
   "metadata": {},
   "outputs": [
    {
     "data": {
      "text/plain": [
       "['apple', 'mango']"
      ]
     },
     "execution_count": 11,
     "metadata": {},
     "output_type": "execute_result"
    }
   ],
   "source": [
    "fruit"
   ]
  },
  {
   "cell_type": "code",
   "execution_count": 13,
   "id": "c11b5f96-91fc-4dc5-991c-aa0687851faa",
   "metadata": {},
   "outputs": [],
   "source": [
    "fruit.append(\"kiwi\")"
   ]
  },
  {
   "cell_type": "code",
   "execution_count": 15,
   "id": "7e611020-3f22-4030-8897-dcbc0f710267",
   "metadata": {},
   "outputs": [
    {
     "data": {
      "text/plain": [
       "['apple', 'mango', 'kiwi']"
      ]
     },
     "execution_count": 15,
     "metadata": {},
     "output_type": "execute_result"
    }
   ],
   "source": [
    "fruit"
   ]
  },
  {
   "cell_type": "code",
   "execution_count": 17,
   "id": "9f5887b1-ca40-4583-9260-ac37067b4c39",
   "metadata": {},
   "outputs": [],
   "source": [
    "new=fruit.copy()"
   ]
  },
  {
   "cell_type": "code",
   "execution_count": 19,
   "id": "c6b632e6-8236-4222-941e-9bef4665c22a",
   "metadata": {},
   "outputs": [
    {
     "data": {
      "text/plain": [
       "['apple', 'mango', 'kiwi']"
      ]
     },
     "execution_count": 19,
     "metadata": {},
     "output_type": "execute_result"
    }
   ],
   "source": [
    "new"
   ]
  },
  {
   "cell_type": "code",
   "execution_count": 21,
   "id": "b2e7cce8-9ad1-4416-880c-ed2c1fda7c1d",
   "metadata": {},
   "outputs": [],
   "source": [
    "fruit[1]=\"banana\""
   ]
  },
  {
   "cell_type": "code",
   "execution_count": 23,
   "id": "0689570d-ae28-4c55-8578-1f5d4e0fc030",
   "metadata": {},
   "outputs": [
    {
     "data": {
      "text/plain": [
       "['apple', 'banana', 'kiwi']"
      ]
     },
     "execution_count": 23,
     "metadata": {},
     "output_type": "execute_result"
    }
   ],
   "source": [
    "fruit"
   ]
  },
  {
   "cell_type": "code",
   "execution_count": 25,
   "id": "122ed6f4-8372-466c-80db-e81d8d342d14",
   "metadata": {},
   "outputs": [
    {
     "data": {
      "text/plain": [
       "['apple', 'mango', 'kiwi']"
      ]
     },
     "execution_count": 25,
     "metadata": {},
     "output_type": "execute_result"
    }
   ],
   "source": [
    "new"
   ]
  },
  {
   "cell_type": "code",
   "execution_count": 27,
   "id": "6902c338-48c8-4f68-bb27-413fde0e82db",
   "metadata": {},
   "outputs": [],
   "source": [
    "new = fruit"
   ]
  },
  {
   "cell_type": "code",
   "execution_count": 29,
   "id": "2d2704bf-f8e3-448e-a9cc-8ce74d3e592d",
   "metadata": {},
   "outputs": [
    {
     "data": {
      "text/plain": [
       "['apple', 'banana', 'kiwi']"
      ]
     },
     "execution_count": 29,
     "metadata": {},
     "output_type": "execute_result"
    }
   ],
   "source": [
    "new"
   ]
  },
  {
   "cell_type": "code",
   "execution_count": 31,
   "id": "6cad419b-3126-49d7-8387-bc2d944ca7ee",
   "metadata": {},
   "outputs": [],
   "source": [
    "fruit.append(\"apple\")"
   ]
  },
  {
   "cell_type": "code",
   "execution_count": 33,
   "id": "0783d652-b630-4d00-801d-2a36ae4b3a26",
   "metadata": {},
   "outputs": [
    {
     "data": {
      "text/plain": [
       "['apple', 'banana', 'kiwi', 'apple']"
      ]
     },
     "execution_count": 33,
     "metadata": {},
     "output_type": "execute_result"
    }
   ],
   "source": [
    "fruit"
   ]
  },
  {
   "cell_type": "code",
   "execution_count": 35,
   "id": "bfc073d1-0a9b-4bf3-98aa-74c14f1f5163",
   "metadata": {},
   "outputs": [
    {
     "data": {
      "text/plain": [
       "['apple', 'banana', 'kiwi', 'apple']"
      ]
     },
     "execution_count": 35,
     "metadata": {},
     "output_type": "execute_result"
    }
   ],
   "source": [
    "new"
   ]
  },
  {
   "cell_type": "code",
   "execution_count": 37,
   "id": "8802beb3-fd80-499d-b8a8-b526d9d2b150",
   "metadata": {},
   "outputs": [],
   "source": [
    "letscount= fruit.count('apple')"
   ]
  },
  {
   "cell_type": "code",
   "execution_count": 41,
   "id": "43c9ded8-3b4c-47e1-9ca7-ae7fd54f5f60",
   "metadata": {},
   "outputs": [
    {
     "data": {
      "text/plain": [
       "2"
      ]
     },
     "execution_count": 41,
     "metadata": {},
     "output_type": "execute_result"
    }
   ],
   "source": [
    "letscount"
   ]
  },
  {
   "cell_type": "code",
   "execution_count": 57,
   "id": "c77eb2df-c302-41f8-a22a-a64cedf7e7ae",
   "metadata": {},
   "outputs": [
    {
     "data": {
      "text/plain": [
       "[1, 2, 6, 3, 4, 5]"
      ]
     },
     "execution_count": 57,
     "metadata": {},
     "output_type": "execute_result"
    }
   ],
   "source": [
    "num = [1,2,3,4,5]\n",
    "num.insert(2,6)\n",
    "num"
   ]
  },
  {
   "cell_type": "code",
   "execution_count": 59,
   "id": "06965cb4-bff9-452d-854c-1e37159aa826",
   "metadata": {},
   "outputs": [
    {
     "data": {
      "text/plain": [
       "5"
      ]
     },
     "execution_count": 59,
     "metadata": {},
     "output_type": "execute_result"
    }
   ],
   "source": [
    "rem=num.pop()\n",
    "rem"
   ]
  },
  {
   "cell_type": "code",
   "execution_count": 61,
   "id": "b5d34ff7-d5e7-4c22-bc10-e0b743f2c027",
   "metadata": {},
   "outputs": [
    {
     "data": {
      "text/plain": [
       "[1, 2, 6, 3, 4]"
      ]
     },
     "execution_count": 61,
     "metadata": {},
     "output_type": "execute_result"
    }
   ],
   "source": [
    "num"
   ]
  },
  {
   "cell_type": "code",
   "execution_count": 65,
   "id": "9cbb04ff-bae8-437f-91cb-ea16d0c482d3",
   "metadata": {},
   "outputs": [
    {
     "data": {
      "text/plain": [
       "[1, 3, 4]"
      ]
     },
     "execution_count": 65,
     "metadata": {},
     "output_type": "execute_result"
    }
   ],
   "source": [
    "rem=num.pop(1)\n",
    "rem\n",
    "num"
   ]
  },
  {
   "cell_type": "code",
   "execution_count": 69,
   "id": "4c5e200a-901c-416a-be48-cd07d5f2a58f",
   "metadata": {},
   "outputs": [],
   "source": [
    "num.append([3,26])"
   ]
  },
  {
   "cell_type": "code",
   "execution_count": 71,
   "id": "cbf07cb0-52e0-4e96-9499-a3dc22c9bdd7",
   "metadata": {},
   "outputs": [
    {
     "data": {
      "text/plain": [
       "[1, 3, 4, [3, 26]]"
      ]
     },
     "execution_count": 71,
     "metadata": {},
     "output_type": "execute_result"
    }
   ],
   "source": [
    "num"
   ]
  },
  {
   "cell_type": "code",
   "execution_count": 73,
   "id": "7036a33e-2e0e-42c5-acf4-f59abb409712",
   "metadata": {},
   "outputs": [],
   "source": [
    "rem=num.remove(3)"
   ]
  },
  {
   "cell_type": "code",
   "execution_count": 77,
   "id": "7682c7a7-3487-420e-854d-0bec292e3ea2",
   "metadata": {},
   "outputs": [],
   "source": [
    "rem"
   ]
  },
  {
   "cell_type": "code",
   "execution_count": 79,
   "id": "d53baa65-7422-456a-a476-ba5b2bfcb430",
   "metadata": {},
   "outputs": [
    {
     "data": {
      "text/plain": [
       "[1, 4, [3, 26]]"
      ]
     },
     "execution_count": 79,
     "metadata": {},
     "output_type": "execute_result"
    }
   ],
   "source": [
    "num"
   ]
  },
  {
   "cell_type": "code",
   "execution_count": 81,
   "id": "8ff45c43-2b5a-4b92-9d1c-d3ef4c08de8f",
   "metadata": {},
   "outputs": [],
   "source": [
    "rev=num.reverse()"
   ]
  },
  {
   "cell_type": "code",
   "execution_count": 83,
   "id": "32f23a57-95cc-4e70-ade9-6a073bdc8f7d",
   "metadata": {},
   "outputs": [],
   "source": [
    "rev"
   ]
  },
  {
   "cell_type": "code",
   "execution_count": 85,
   "id": "14ff8e11-156a-400d-86c5-c05ef6609a5f",
   "metadata": {},
   "outputs": [
    {
     "data": {
      "text/plain": [
       "[[3, 26], 4, 1]"
      ]
     },
     "execution_count": 85,
     "metadata": {},
     "output_type": "execute_result"
    }
   ],
   "source": [
    "num"
   ]
  },
  {
   "cell_type": "code",
   "execution_count": 87,
   "id": "c1d17993-cf1d-4c47-b8d0-18f6b3712a41",
   "metadata": {},
   "outputs": [],
   "source": [
    "slice=[11,20,38,49,68]"
   ]
  },
  {
   "cell_type": "code",
   "execution_count": 89,
   "id": "0579744b-b2aa-42a1-adbb-2d05a24c5baa",
   "metadata": {},
   "outputs": [
    {
     "data": {
      "text/plain": [
       "[11, 20, 38]"
      ]
     },
     "execution_count": 89,
     "metadata": {},
     "output_type": "execute_result"
    }
   ],
   "source": [
    "slice[:3]"
   ]
  },
  {
   "cell_type": "code",
   "execution_count": 91,
   "id": "ac58a4ee-7153-4082-a1d8-ba281412a3fa",
   "metadata": {},
   "outputs": [
    {
     "data": {
      "text/plain": [
       "[38, 49, 68]"
      ]
     },
     "execution_count": 91,
     "metadata": {},
     "output_type": "execute_result"
    }
   ],
   "source": [
    "slice[2:]"
   ]
  },
  {
   "cell_type": "code",
   "execution_count": 95,
   "id": "3310b6c2-3bdc-4a9f-b84e-d0ecd71e8f82",
   "metadata": {},
   "outputs": [
    {
     "data": {
      "text/plain": [
       "[11, 38, 68]"
      ]
     },
     "execution_count": 95,
     "metadata": {},
     "output_type": "execute_result"
    }
   ],
   "source": [
    "slice[::2]"
   ]
  },
  {
   "cell_type": "code",
   "execution_count": 97,
   "id": "50904cac-cf12-45d9-9ada-82dd6bb3d8e0",
   "metadata": {},
   "outputs": [
    {
     "data": {
      "text/plain": [
       "[11, 20, 38, 49, 68]"
      ]
     },
     "execution_count": 97,
     "metadata": {},
     "output_type": "execute_result"
    }
   ],
   "source": [
    "slice[::1]"
   ]
  },
  {
   "cell_type": "code",
   "execution_count": 99,
   "id": "c7357acb-9bca-4687-9c35-ddd0af54d1f5",
   "metadata": {},
   "outputs": [
    {
     "data": {
      "text/plain": [
       "[11, 68]"
      ]
     },
     "execution_count": 99,
     "metadata": {},
     "output_type": "execute_result"
    }
   ],
   "source": [
    "slice[::4]"
   ]
  },
  {
   "cell_type": "code",
   "execution_count": 101,
   "id": "6610e328-164c-4be8-8ac8-27efdaf10027",
   "metadata": {},
   "outputs": [
    {
     "data": {
      "text/plain": [
       "[11, 20, 38, 49, 68]"
      ]
     },
     "execution_count": 101,
     "metadata": {},
     "output_type": "execute_result"
    }
   ],
   "source": [
    "slice.sort()\n",
    "slice"
   ]
  },
  {
   "cell_type": "code",
   "execution_count": 103,
   "id": "2bcb98a5-e735-4632-9570-1eab040fbb5f",
   "metadata": {},
   "outputs": [
    {
     "data": {
      "text/plain": [
       "[68, 49, 38, 20, 11]"
      ]
     },
     "execution_count": 103,
     "metadata": {},
     "output_type": "execute_result"
    }
   ],
   "source": [
    "slice.sort(reverse=True)\n",
    "slice"
   ]
  },
  {
   "cell_type": "code",
   "execution_count": 107,
   "id": "db75cf9b-26b1-4cdf-9bc8-44900f70aec1",
   "metadata": {},
   "outputs": [],
   "source": [
    "trial=sorted(slice)"
   ]
  },
  {
   "cell_type": "code",
   "execution_count": 109,
   "id": "154b0aeb-b85a-4615-a08b-78dfdabc692b",
   "metadata": {},
   "outputs": [
    {
     "data": {
      "text/plain": [
       "[11, 20, 38, 49, 68]"
      ]
     },
     "execution_count": 109,
     "metadata": {},
     "output_type": "execute_result"
    }
   ],
   "source": [
    "trial"
   ]
  },
  {
   "cell_type": "code",
   "execution_count": 114,
   "id": "e21f1078-f5c0-46da-b14b-ffd7f035e8ec",
   "metadata": {},
   "outputs": [],
   "source": [
    "A=[1]"
   ]
  },
  {
   "cell_type": "code",
   "execution_count": 116,
   "id": "ff5d50da-9237-4932-ae99-020e97cb7d28",
   "metadata": {},
   "outputs": [],
   "source": [
    "A.append([2,3,4,5])"
   ]
  },
  {
   "cell_type": "code",
   "execution_count": 118,
   "id": "14e189ac-4ddc-4b46-a7fb-d261a70c8646",
   "metadata": {},
   "outputs": [
    {
     "data": {
      "text/plain": [
       "2"
      ]
     },
     "execution_count": 118,
     "metadata": {},
     "output_type": "execute_result"
    }
   ],
   "source": [
    "len(A)"
   ]
  },
  {
   "cell_type": "code",
   "execution_count": 120,
   "id": "f9d3e60b-a5ed-4987-9cf5-9efbd8980f9e",
   "metadata": {},
   "outputs": [],
   "source": [
    "Dict={\"A\":1,\"B\":\"2\",\"C\":[3,3,3],\"D\":(4,4,4),'E':5,'F':6}"
   ]
  },
  {
   "cell_type": "code",
   "execution_count": 122,
   "id": "fafc3cc1-f611-4fb5-8b42-d74483c3f534",
   "metadata": {},
   "outputs": [
    {
     "data": {
      "text/plain": [
       "['A', 'B', 'C', 'D', 'E', 'F']"
      ]
     },
     "execution_count": 122,
     "metadata": {},
     "output_type": "execute_result"
    }
   ],
   "source": [
    "list(Dict.keys())"
   ]
  },
  {
   "cell_type": "code",
   "execution_count": 124,
   "id": "c622db70-1734-4932-8a64-0651c186c6e3",
   "metadata": {},
   "outputs": [],
   "source": [
    "person = { \"name\": \"John\",  \"age\": 30, \"city\": \"New York\"}"
   ]
  },
  {
   "cell_type": "code",
   "execution_count": 127,
   "id": "90d204af-ac11-4ae1-9c87-07aa4f13c4ef",
   "metadata": {},
   "outputs": [],
   "source": [
    "name = person[\"name\"]"
   ]
  },
  {
   "cell_type": "code",
   "execution_count": 129,
   "id": "51820af0-34c9-4ba5-a76c-fffc93f7e0d5",
   "metadata": {},
   "outputs": [
    {
     "data": {
      "text/plain": [
       "'John'"
      ]
     },
     "execution_count": 129,
     "metadata": {},
     "output_type": "execute_result"
    }
   ],
   "source": [
    "name"
   ]
  },
  {
   "cell_type": "code",
   "execution_count": 131,
   "id": "a4e00e21-83c3-4a02-929f-3f7e73171adf",
   "metadata": {},
   "outputs": [],
   "source": [
    "johnage=person[\"age\"]"
   ]
  },
  {
   "cell_type": "code",
   "execution_count": 133,
   "id": "ca440cb5-31c2-42b7-b5dd-18511a05b2f5",
   "metadata": {},
   "outputs": [
    {
     "data": {
      "text/plain": [
       "30"
      ]
     },
     "execution_count": 133,
     "metadata": {},
     "output_type": "execute_result"
    }
   ],
   "source": [
    "johnage"
   ]
  },
  {
   "cell_type": "code",
   "execution_count": 135,
   "id": "b82d787b-6cac-4bf6-a9cc-78d9b1442b42",
   "metadata": {},
   "outputs": [],
   "source": [
    "fruits = {\"apple\", \"banana\", \"orange\"}"
   ]
  },
  {
   "cell_type": "code",
   "execution_count": 137,
   "id": "0ff94f38-e4f4-401a-8e2f-e8ba7fcf9210",
   "metadata": {},
   "outputs": [
    {
     "data": {
      "text/plain": [
       "{'banana', 'orange'}"
      ]
     },
     "execution_count": 137,
     "metadata": {},
     "output_type": "execute_result"
    }
   ],
   "source": [
    "fruits.discard(\"apple\")\n",
    "fruits"
   ]
  },
  {
   "cell_type": "code",
   "execution_count": 139,
   "id": "fef9da78-c061-4311-9c34-0445313722c4",
   "metadata": {},
   "outputs": [
    {
     "data": {
      "text/plain": [
       "{'apple', 'banana', 'orange'}"
      ]
     },
     "execution_count": 139,
     "metadata": {},
     "output_type": "execute_result"
    }
   ],
   "source": [
    "fruits.add(\"apple\")\n",
    "fruits"
   ]
  },
  {
   "cell_type": "code",
   "execution_count": 141,
   "id": "661ab33f-b3f5-453c-a9a6-4173bf5c8097",
   "metadata": {},
   "outputs": [
    {
     "data": {
      "text/plain": [
       "'orange'"
      ]
     },
     "execution_count": 141,
     "metadata": {},
     "output_type": "execute_result"
    }
   ],
   "source": [
    "rem=fruits.pop()\n",
    "rem"
   ]
  },
  {
   "cell_type": "code",
   "execution_count": 143,
   "id": "cc83ab55-f4dc-460b-b646-f33047600139",
   "metadata": {},
   "outputs": [
    {
     "data": {
      "text/plain": [
       "{'apple', 'banana'}"
      ]
     },
     "execution_count": 143,
     "metadata": {},
     "output_type": "execute_result"
    }
   ],
   "source": [
    "fruits"
   ]
  },
  {
   "cell_type": "code",
   "execution_count": 145,
   "id": "31e5d257-72e5-42f8-bd04-700b2b138209",
   "metadata": {},
   "outputs": [
    {
     "data": {
      "text/plain": [
       "{'apple', 'banana', 'kiwi'}"
      ]
     },
     "execution_count": 145,
     "metadata": {},
     "output_type": "execute_result"
    }
   ],
   "source": [
    "fruits.add(\"kiwi\")\n",
    "fruits"
   ]
  },
  {
   "cell_type": "code",
   "execution_count": 147,
   "id": "0c612f4c-4f3e-43ae-992d-0a2b05969d8b",
   "metadata": {},
   "outputs": [
    {
     "data": {
      "text/plain": [
       "{'apple', 'kiwi'}"
      ]
     },
     "execution_count": 147,
     "metadata": {},
     "output_type": "execute_result"
    }
   ],
   "source": [
    "fruits.remove(\"banana\")\n",
    "fruits"
   ]
  },
  {
   "cell_type": "code",
   "execution_count": 149,
   "id": "5dfb13a6-c7cb-417c-adc1-f437e3e1ecaa",
   "metadata": {},
   "outputs": [],
   "source": [
    "fruits.update([\"kiwi\", \"grape\"])"
   ]
  },
  {
   "cell_type": "code",
   "execution_count": 151,
   "id": "bde10f28-e5fe-4c8e-b2d8-2fa0b7843e7a",
   "metadata": {},
   "outputs": [
    {
     "data": {
      "text/plain": [
       "{'apple', 'grape', 'kiwi'}"
      ]
     },
     "execution_count": 151,
     "metadata": {},
     "output_type": "execute_result"
    }
   ],
   "source": [
    "fruits"
   ]
  },
  {
   "cell_type": "code",
   "execution_count": 153,
   "id": "fa0eb97a-1792-40ce-9cf1-55a4c9b8bc27",
   "metadata": {},
   "outputs": [
    {
     "data": {
      "text/plain": [
       "5"
      ]
     },
     "execution_count": 153,
     "metadata": {},
     "output_type": "execute_result"
    }
   ],
   "source": [
    " len((\"disco\",10,1.2, \"hard rock\",10))"
   ]
  },
  {
   "cell_type": "code",
   "execution_count": 9,
   "id": "2e7cd9c2-6185-479a-87a5-7faede6182c9",
   "metadata": {},
   "outputs": [
    {
     "name": "stdout",
     "output_type": "stream",
     "text": [
      "a\n",
      "y\n"
     ]
    }
   ],
   "source": [
    "lists=[\"W\",\"a\",\"y\"]\n",
    "for i in range(1,3):\n",
    "    print(lists[i])"
   ]
  },
  {
   "cell_type": "code",
   "execution_count": 15,
   "id": "90380c09-5255-4ec7-aad7-4bb1b7051532",
   "metadata": {},
   "outputs": [
    {
     "name": "stdout",
     "output_type": "stream",
     "text": [
      "At position 0, I found a apple\n",
      "At position 1, I found a banana\n",
      "At position 2, I found a orange\n"
     ]
    }
   ],
   "source": [
    "fruits = [\"apple\", \"banana\", \"orange\"]\n",
    "for index, fruit in enumerate(fruits):\n",
    "    print(f\"At position {index}, I found a {fruit}\")"
   ]
  },
  {
   "cell_type": "code",
   "execution_count": 25,
   "id": "e6d4ab16-93ef-464e-995e-19a4b145b59b",
   "metadata": {},
   "outputs": [
    {
     "name": "stdout",
     "output_type": "stream",
     "text": [
      "10\n",
      "9.5\n",
      "10\n",
      "8\n",
      "7.5\n"
     ]
    }
   ],
   "source": [
    "PlayListRatings = [10, 9.5, 10, 8, 7.5, 5, 10, 10]\n",
    "i = 0\n",
    "rating = PlayListRatings[0]\n",
    "while(i < len(PlayListRatings) and rating >= 6):\n",
    "    print(rating)\n",
    "    i = i + 1 \n",
    "    rating = PlayListRatings[i]  "
   ]
  },
  {
   "cell_type": "code",
   "execution_count": 39,
   "id": "5fd46125-c1b9-4408-ac33-58c81bcf1cc2",
   "metadata": {},
   "outputs": [
    {
     "name": "stdout",
     "output_type": "stream",
     "text": [
      "['orange', 'orange']\n"
     ]
    }
   ],
   "source": [
    "squares = ['orange', 'orange', 'purple', 'blue ', 'orange']\n",
    "new_squares = []\n",
    "i = 0\n",
    "while(i < len(squares) and squares[i] == 'orange'):\n",
    "    new_squares.append(squares[i])\n",
    "    i = i + 1\n",
    "print (new_squares)"
   ]
  },
  {
   "cell_type": "code",
   "execution_count": 67,
   "id": "7a50ae54-22da-424b-af8c-d44f7880e156",
   "metadata": {},
   "outputs": [
    {
     "name": "stdout",
     "output_type": "stream",
     "text": [
      "6 * 1 = 6\n",
      "6 * 2 = 12\n",
      "6 * 3 = 18\n",
      "6 * 4 = 24\n",
      "6 * 5 = 30\n",
      "6 * 6 = 36\n",
      "6 * 7 = 42\n",
      "6 * 8 = 48\n",
      "6 * 9 = 54\n",
      "6 * 10 = 60\n",
      "7 * 1 = 7\n",
      "7 * 2 = 14\n",
      "7 * 3 = 21\n",
      "7 * 4 = 28\n",
      "7 * 5 = 35\n",
      "7 * 6 = 42\n",
      "7 * 7 = 49\n",
      "7 * 8 = 56\n",
      "7 * 9 = 63\n",
      "7 * 10 = 70\n"
     ]
    }
   ],
   "source": [
    "# Write your code here\n",
    "i\n",
    "j=6\n",
    "n=7\n",
    "for i in range (1,11):\n",
    "    print(j,\"*\",i,\"=\",j*i)\n",
    "for i in range (1,11):\n",
    "        print(n,\"*\",i,\"=\",n*i)"
   ]
  },
  {
   "cell_type": "code",
   "execution_count": 87,
   "id": "932a58c3-ef2b-4db9-84f9-826622cb2ceb",
   "metadata": {},
   "outputs": [
    {
     "name": "stdout",
     "output_type": "stream",
     "text": [
      "['giraffe', 'gorilla', 'parrots']\n"
     ]
    }
   ],
   "source": [
    "Animals = [\"lion\", \"giraffe\", \"gorilla\", \"parrots\", \"crocodile\", \"deer\", \"swan\"]\n",
    "i = 0\n",
    "new = []\n",
    "\n",
    "while i < len(Animals):\n",
    "    if len(Animals[i]) == 7:\n",
    "        new.append(Animals[i])\n",
    "    i += 1\n",
    "\n",
    "print(new)\n"
   ]
  },
  {
   "cell_type": "code",
   "execution_count": 89,
   "id": "8b3c6a5e-d672-4b5b-8145-5fae93fb4de8",
   "metadata": {},
   "outputs": [
    {
     "name": "stdout",
     "output_type": "stream",
     "text": [
      "AA\n",
      "BA\n",
      "CA\n"
     ]
    }
   ],
   "source": [
    "for x in ['A', 'B', 'C']:\n",
    "    print(x + 'A')"
   ]
  },
  {
   "cell_type": "code",
   "execution_count": 95,
   "id": "1cc5d745-ce7c-49e7-8b61-77055f15e9aa",
   "metadata": {},
   "outputs": [
    {
     "name": "stdout",
     "output_type": "stream",
     "text": [
      "1\n",
      "2\n"
     ]
    }
   ],
   "source": [
    "for num in range(1, 6):\n",
    "    if num == 3:\n",
    "        break\n",
    "    print(num)"
   ]
  },
  {
   "cell_type": "code",
   "execution_count": 97,
   "id": "5c74560f-f226-4282-a5e7-6fdedab9f81e",
   "metadata": {},
   "outputs": [
    {
     "name": "stdout",
     "output_type": "stream",
     "text": [
      "1\n",
      "2\n",
      "4\n",
      "5\n"
     ]
    }
   ],
   "source": [
    "for num in range(1, 6):\n",
    "    if num == 3:\n",
    "        continue\n",
    "    print(num)"
   ]
  },
  {
   "cell_type": "code",
   "execution_count": 1,
   "id": "af32f4a0-e017-4a96-be87-57819cc08b3b",
   "metadata": {},
   "outputs": [],
   "source": [
    "str = \"Lorem ipsum dolor! diam amet, consetetur Lorem magna. sed diam nonumy eirmod tempor. diam et labore? et diam magna. et diam amet.\""
   ]
  },
  {
   "cell_type": "code",
   "execution_count": 2,
   "id": "a54729e6-91a8-4aaf-9f6a-47920ec7ec10",
   "metadata": {},
   "outputs": [],
   "source": [
    "import pandas as pd"
   ]
  },
  {
   "cell_type": "code",
   "execution_count": 6,
   "id": "76275438-db82-4844-8841-a3c1e1c0baca",
   "metadata": {},
   "outputs": [
    {
     "name": "stdout",
     "output_type": "stream",
     "text": [
      "0    10\n",
      "1    20\n",
      "2     m\n",
      "3    40\n",
      "4    50\n",
      "dtype: object\n"
     ]
    }
   ],
   "source": [
    "data = [10, 20, \"m\", 40, 50]\n",
    "s = pd.Series(data)\n",
    "print(s)"
   ]
  },
  {
   "cell_type": "code",
   "execution_count": 10,
   "id": "8681839f-fc6b-413b-9e12-1d8df92fc2cc",
   "metadata": {},
   "outputs": [
    {
     "name": "stdout",
     "output_type": "stream",
     "text": [
      "10\n"
     ]
    }
   ],
   "source": [
    "print(s[0])  "
   ]
  },
  {
   "cell_type": "code",
   "execution_count": 12,
   "id": "d8dda3a0-02a2-4d96-beb9-7b9167053d4f",
   "metadata": {},
   "outputs": [
    {
     "name": "stdout",
     "output_type": "stream",
     "text": [
      "40\n"
     ]
    }
   ],
   "source": [
    "print(s.iloc[3])"
   ]
  },
  {
   "cell_type": "code",
   "execution_count": 14,
   "id": "83456dfc-bfbf-4870-9b3e-4022c9915de4",
   "metadata": {},
   "outputs": [
    {
     "name": "stdout",
     "output_type": "stream",
     "text": [
      "1    20\n",
      "2     m\n",
      "3    40\n",
      "dtype: object\n"
     ]
    }
   ],
   "source": [
    "print(s[1:4]) "
   ]
  },
  {
   "cell_type": "code",
   "execution_count": 16,
   "id": "e3b73cfa-7362-4a99-92a1-ef84cb57f972",
   "metadata": {},
   "outputs": [
    {
     "name": "stdout",
     "output_type": "stream",
     "text": [
      "[10 20 'm' 40 50]\n"
     ]
    }
   ],
   "source": [
    "print(s.values)"
   ]
  },
  {
   "cell_type": "code",
   "execution_count": 18,
   "id": "f8bd5bab-0334-42c5-a4ea-97a32d0f9efd",
   "metadata": {},
   "outputs": [
    {
     "name": "stdout",
     "output_type": "stream",
     "text": [
      "RangeIndex(start=0, stop=5, step=1)\n"
     ]
    }
   ],
   "source": [
    "print(s.index)"
   ]
  },
  {
   "cell_type": "code",
   "execution_count": 20,
   "id": "ff0c1fc0-c0fc-4f2b-a097-65c667502a28",
   "metadata": {},
   "outputs": [
    {
     "name": "stdout",
     "output_type": "stream",
     "text": [
      "(5,)\n"
     ]
    }
   ],
   "source": [
    "print(s.shape)"
   ]
  },
  {
   "cell_type": "code",
   "execution_count": 22,
   "id": "30f04c0d-8b03-4e91-9c86-31451a3c6b9e",
   "metadata": {},
   "outputs": [
    {
     "name": "stdout",
     "output_type": "stream",
     "text": [
      "5\n"
     ]
    }
   ],
   "source": [
    "print(s.size)"
   ]
  },
  {
   "cell_type": "code",
   "execution_count": 34,
   "id": "40d536dd-b322-4141-98db-32c7a75ef609",
   "metadata": {},
   "outputs": [
    {
     "name": "stdout",
     "output_type": "stream",
     "text": [
      "[10 20 'm' 40 50]\n"
     ]
    }
   ],
   "source": [
    "print(s.unique())"
   ]
  },
  {
   "cell_type": "code",
   "execution_count": 47,
   "id": "5432d46a-4d60-429d-8e13-ae3ec08d979f",
   "metadata": {},
   "outputs": [
    {
     "name": "stdout",
     "output_type": "stream",
     "text": [
      "      Name  Age           City\n",
      "0    Alice   25       New York\n",
      "1      Bob   30  San Francisco\n",
      "2  Charlie   35    Los Angeles\n",
      "3    David   28        Chicago\n"
     ]
    }
   ],
   "source": [
    "\n",
    "# Creating a DataFrame from a dictionary\n",
    "data = {'Name': ['Alice', 'Bob', 'Charlie', 'David'],\n",
    "        'Age': [25, 30, 35, 28],\n",
    "        'City': ['New York', 'San Francisco', 'Los Angeles', 'Chicago']}\n",
    "df = pd.DataFrame(data)\n",
    "print(df)"
   ]
  },
  {
   "cell_type": "code",
   "execution_count": 49,
   "id": "28322f49-be0e-4cca-b24a-c0182956af63",
   "metadata": {},
   "outputs": [
    {
     "name": "stdout",
     "output_type": "stream",
     "text": [
      "(4, 3)\n"
     ]
    }
   ],
   "source": [
    "print(df.shape)"
   ]
  },
  {
   "cell_type": "code",
   "execution_count": 51,
   "id": "0c8c0c77-9e81-4ea0-acc7-fd0494d9e671",
   "metadata": {},
   "outputs": [
    {
     "name": "stdout",
     "output_type": "stream",
     "text": [
      "<class 'pandas.core.frame.DataFrame'>\n",
      "RangeIndex: 4 entries, 0 to 3\n",
      "Data columns (total 3 columns):\n",
      " #   Column  Non-Null Count  Dtype \n",
      "---  ------  --------------  ----- \n",
      " 0   Name    4 non-null      object\n",
      " 1   Age     4 non-null      int64 \n",
      " 2   City    4 non-null      object\n",
      "dtypes: int64(1), object(2)\n",
      "memory usage: 228.0+ bytes\n",
      "None\n"
     ]
    }
   ],
   "source": [
    "print(df.info())"
   ]
  },
  {
   "cell_type": "code",
   "execution_count": 53,
   "id": "51c0f4c4-8bd2-43a4-9068-47df7b8aa9f9",
   "metadata": {},
   "outputs": [
    {
     "name": "stdout",
     "output_type": "stream",
     "text": [
      "             Age\n",
      "count   4.000000\n",
      "mean   29.500000\n",
      "std     4.203173\n",
      "min    25.000000\n",
      "25%    27.250000\n",
      "50%    29.000000\n",
      "75%    31.250000\n",
      "max    35.000000\n"
     ]
    }
   ],
   "source": [
    "print(df.describe())"
   ]
  },
  {
   "cell_type": "code",
   "execution_count": 55,
   "id": "8b6595ec-a337-48bb-a0af-6c4676c939dc",
   "metadata": {},
   "outputs": [
    {
     "name": "stdout",
     "output_type": "stream",
     "text": [
      "      Name  Age           City\n",
      "0    Alice   25       New York\n",
      "1      Bob   30  San Francisco\n",
      "2  Charlie   35    Los Angeles\n",
      "3    David   28        Chicago\n"
     ]
    }
   ],
   "source": [
    "print(df.head())"
   ]
  },
  {
   "cell_type": "code",
   "execution_count": 57,
   "id": "ca0776bb-b2e0-49cc-bde7-01081647c037",
   "metadata": {},
   "outputs": [
    {
     "name": "stdout",
     "output_type": "stream",
     "text": [
      "      Name  Age           City\n",
      "0    Alice   25       New York\n",
      "1      Bob   30  San Francisco\n",
      "2  Charlie   35    Los Angeles\n",
      "3    David   28        Chicago\n"
     ]
    }
   ],
   "source": [
    "print(df.tail())"
   ]
  },
  {
   "cell_type": "code",
   "execution_count": 71,
   "id": "9c70d9ad-beca-4f7a-9f45-c897097d1372",
   "metadata": {},
   "outputs": [
    {
     "name": "stdout",
     "output_type": "stream",
     "text": [
      "      Name  Age           City\n",
      "0    Alice   25       New York\n",
      "1      Bob   30  San Francisco\n",
      "2  Charlie   35    Los Angeles\n",
      "3    David   28        Chicago\n"
     ]
    }
   ],
   "source": [
    "print(df)"
   ]
  },
  {
   "cell_type": "code",
   "execution_count": 1,
   "id": "c8d34fc6-39aa-4960-b39d-e8a476427677",
   "metadata": {},
   "outputs": [],
   "source": [
    "import numpy as np"
   ]
  },
  {
   "cell_type": "code",
   "execution_count": 3,
   "id": "75672092-db96-4f86-8fe8-7e6996314f63",
   "metadata": {},
   "outputs": [
    {
     "data": {
      "text/plain": [
       "0"
      ]
     },
     "execution_count": 3,
     "metadata": {},
     "output_type": "execute_result"
    }
   ],
   "source": [
    "a=np.array([0,1]) \n",
    "\n",
    "b=np.array([1,0]) \n",
    "\n",
    "np.dot(a,b)"
   ]
  },
  {
   "cell_type": "code",
   "execution_count": 7,
   "id": "90b86d90-f516-41b4-8463-2347a43778ac",
   "metadata": {},
   "outputs": [
    {
     "data": {
      "text/plain": [
       "array([[1, 1],\n",
       "       [1, 1]])"
      ]
     },
     "execution_count": 7,
     "metadata": {},
     "output_type": "execute_result"
    }
   ],
   "source": [
    "X=np.array([[1,0],[0,1]]) \n",
    "\n",
    "Y=np.array([[0,1],[1,0]]) \n",
    "\n",
    "Z=X+Y \n",
    "Z"
   ]
  },
  {
   "cell_type": "code",
   "execution_count": 11,
   "id": "45336e1c-bfea-481c-9a4d-5e6f54bcede7",
   "metadata": {},
   "outputs": [
    {
     "data": {
      "text/plain": [
       "array([1, 2])"
      ]
     },
     "execution_count": 11,
     "metadata": {},
     "output_type": "execute_result"
    }
   ],
   "source": [
    "X=np.array([[1,0,1],[2,2,2]]) \n",
    "\n",
    "out=X[0:2,2]\n",
    "out"
   ]
  },
  {
   "cell_type": "code",
   "execution_count": 13,
   "id": "4691889d-6796-481a-861e-8c8e404eff80",
   "metadata": {},
   "outputs": [
    {
     "data": {
      "text/plain": [
       "array([[2, 1],\n",
       "       [1, 2]])"
      ]
     },
     "execution_count": 13,
     "metadata": {},
     "output_type": "execute_result"
    }
   ],
   "source": [
    "X=np.array([[1,0],[0,1]]) \n",
    "\n",
    "Y=np.array([[2,1],[1,2]]) \n",
    "\n",
    "Z=np.dot(X,Y) \n",
    "Z"
   ]
  },
  {
   "cell_type": "code",
   "execution_count": 2,
   "id": "a66c5303-c703-470b-a52c-c441f22811d9",
   "metadata": {},
   "outputs": [],
   "source": [
    "import requests"
   ]
  },
  {
   "cell_type": "code",
   "execution_count": 4,
   "id": "a01b2de4-a7e3-47d0-b09a-ef78e8599b66",
   "metadata": {},
   "outputs": [],
   "source": [
    "from bs4 import BeautifulSoup"
   ]
  },
  {
   "cell_type": "code",
   "execution_count": 6,
   "id": "ac4c8227-4b38-4246-a5cd-32db65d6cff2",
   "metadata": {},
   "outputs": [
    {
     "name": "stdout",
     "output_type": "stream",
     "text": [
      "<!DOCTYPE html>\n",
      "<html class=\"client-nojs vector-feature-language-in-header-enabled vector-feature-language-in-main-page-header-disabled vector-feature-sticky-header-disabled vector-feature-page-tools-pinned-disabled vector-feature-toc-pinned-clientpref-1 vector-feature-main-menu-pinned-disabled vect\n"
     ]
    }
   ],
   "source": [
    "# Specify the URL of the webpage you want to scrape\n",
    "url = 'https://en.wikipedia.org/wiki/IBM'\n",
    "\n",
    "# Send an HTTP GET request to the webpage\n",
    "response=requests.get(url)\n",
    "\n",
    "# Store the HTML content in a variable\n",
    "html_content = response.text\n",
    "\n",
    "# Create a BeautifulSoup object to parse the HTML\n",
    "soup=BeautifulSoup(html_content,'html.parser')\n",
    "\n",
    "# Display a snippet of the HTML content\n",
    "print(html_content[0:300])\n"
   ]
  },
  {
   "cell_type": "code",
   "execution_count": 12,
   "id": "c1dfd888-395d-435b-8814-41f674d72736",
   "metadata": {},
   "outputs": [
    {
     "name": "stdout",
     "output_type": "stream",
     "text": [
      "Jump to content\n",
      "Main page\n",
      "Contents\n",
      "Current events\n",
      "Random article\n",
      "About Wikipedia\n",
      "Contact us\n",
      "Donate\n",
      "Help\n",
      "Learn to edit\n",
      "Community portal\n",
      "Recent changes\n",
      "Upload file\n",
      "\n",
      "\n",
      "\n",
      "\n",
      "\n",
      "\n",
      "\n",
      "\n",
      "Search\n",
      "\n",
      "Create account\n",
      "Log in\n",
      " Create account\n",
      " Log in\n",
      "learn more\n",
      "Contributions\n",
      "Talk\n",
      "\n",
      "(Top)\n",
      "\n",
      "\n",
      "\n",
      "1\n",
      "History\n",
      "\n",
      "\n",
      "\n",
      "\n",
      "2\n",
      "Corporate affairs\n",
      "\n",
      "\n",
      "\n",
      "\n",
      "2.1\n",
      "Business trends\n",
      "\n",
      "\n",
      "\n",
      "\n",
      "2.2\n",
      "Headquarters and offices\n",
      "\n",
      "\n",
      "\n",
      "\n",
      "3\n",
      "Products and services\n",
      "\n",
      "\n",
      "\n",
      "\n",
      "4\n",
      "Research\n",
      "\n",
      "\n",
      "\n",
      "\n",
      "5\n",
      "Brand and reputation\n",
      "\n",
      "\n",
      "\n",
      "\n",
      "6\n",
      "People and culture\n",
      "\n",
      "\n",
      "\n",
      "\n",
      "6.1\n",
      "Employees\n",
      "\n",
      "\n",
      "\n",
      "\n",
      "6.1.1\n",
      "IBM alumni\n",
      "\n",
      "\n",
      "\n",
      "\n",
      "6.2\n",
      "Board and shareholders\n",
      "\n",
      "\n",
      "\n",
      "\n",
      "7\n",
      "See also\n",
      "\n",
      "\n",
      "\n",
      "\n",
      "8\n",
      "Notes\n",
      "\n",
      "\n",
      "\n",
      "\n",
      "9\n",
      "References\n",
      "\n",
      "\n",
      "\n",
      "\n",
      "10\n",
      "Further reading\n",
      "\n",
      "\n",
      "\n",
      "\n",
      "11\n",
      "External links\n",
      "\n",
      "\n",
      "Afrikaans\n",
      "Alemannisch\n",
      "العربية\n",
      "Asturianu\n",
      "Azərbaycanca\n",
      "تۆرکجه\n",
      "বাংলা\n",
      "閩南語 / Bân-lâm-gú\n",
      "Башҡортса\n",
      "Беларуская\n",
      "Беларуская (тарашкевіца)\n",
      "Български\n",
      "Bosanski\n",
      "Català\n",
      "Чӑвашла\n",
      "Čeština\n",
      "Dansk\n",
      "Deutsch\n",
      "Eesti\n",
      "Ελληνικά\n",
      "Español\n",
      "Esperanto\n",
      "Euskara\n",
      "فارسی\n",
      "Français\n",
      "Gaeilge\n",
      "Galego\n",
      "Gĩkũyũ\n",
      "한국어\n",
      "Հայերեն\n",
      "हिन्दी\n",
      "Hrvatski\n",
      "Ido\n",
      "Bahasa Indonesia\n",
      "Interlingue\n",
      "Íslenska\n",
      "Italiano\n",
      "עברית\n",
      "Jawa\n",
      "ಕನ್ನಡ\n",
      "ქართული\n",
      "Қазақша\n",
      "Kiswahili\n",
      "Kurdî\n",
      "Кыргызча\n",
      "Latina\n",
      "Latviešu\n",
      "Lëtzebuergesch\n",
      "Lietuvių\n",
      "Magyar\n",
      "मैथिली\n",
      "Македонски\n",
      "മലയാളം\n",
      "मराठी\n",
      "مصرى\n",
      "Bahasa Melayu\n",
      "Монгол\n",
      "Nederlands\n",
      "नेपाली\n",
      "日本語\n",
      "Norsk bokmål\n",
      "Norsk nynorsk\n",
      "Occitan\n",
      "ଓଡ଼ିଆ\n",
      "Oʻzbekcha / ўзбекча\n",
      "ਪੰਜਾਬੀ\n",
      "پنجابی\n",
      "Piemontèis\n",
      "Polski\n",
      "Português\n",
      "Qaraqalpaqsha\n",
      "Română\n",
      "Runa Simi\n",
      "Русский\n",
      "Саха тыла\n",
      "Scots\n",
      "Shqip\n",
      "සිංහල\n",
      "Simple English\n",
      "Slovenčina\n",
      "Slovenščina\n",
      "کوردی\n",
      "Српски / srpski\n",
      "Srpskohrvatski / српскохрватски\n",
      "Suomi\n",
      "Svenska\n",
      "Tagalog\n",
      "தமிழ்\n",
      "Татарча / tatarça\n",
      "ไทย\n",
      "Тоҷикӣ\n",
      "Türkçe\n",
      "Українська\n",
      "اردو\n",
      "Tiếng Việt\n",
      "Winaray\n",
      "吴语\n",
      "ייִדיש\n",
      "粵語\n",
      "中文\n",
      "Edit links\n",
      "Article\n",
      "Talk\n",
      "Read\n",
      "Edit\n",
      "View history\n",
      "Read\n",
      "Edit\n",
      "View history\n",
      "What links here\n",
      "Related changes\n",
      "Upload file\n",
      "Special pages\n",
      "Permanent link\n",
      "Page information\n",
      "Cite this page\n",
      "Get shortened URL\n",
      "Download QR code\n",
      "Wikidata item\n",
      "Download as PDF\n",
      "Printable version\n",
      "Wikimedia Commons\n",
      "Wikinews\n",
      "Wikiquote\n",
      "IBM (disambiguation)\n",
      "Big Blue (disambiguation)\n",
      "\n",
      "Paul Rand\n",
      "\n",
      "Armonk, New York\n",
      "Trade name\n",
      "Computing-Tabulating-Recording Company\n",
      "Public\n",
      "Traded as\n",
      "NYSE\n",
      "IBM\n",
      "DJIA\n",
      "S&P 100\n",
      "S&P 500\n",
      "ISIN\n",
      "ISIN\n",
      "US4592001014\n",
      "Information technology\n",
      "Bundy Manufacturing Company\n",
      "Computing Scale Company of America\n",
      "International Time Recording Company\n",
      "Tabulating Machine Company\n",
      "Computing-Tabulating-Recording Company\n",
      "Computing-Tabulating-Recording Company\n",
      "Endicott, New York\n",
      "[1]\n",
      "George Winthrop Fairchild\n",
      "Charles Ranlett Flint\n",
      "Herman Hollerith\n",
      "Armonk, New York\n",
      "Arvind Krishna\n",
      "chairman\n",
      "CEO\n",
      "[2]\n",
      "[3]\n",
      "Gary Cohn\n",
      "vice chairman\n",
      "[4]\n",
      "Automation\n",
      "Robotics\n",
      "Artificial intelligence\n",
      "Cloud computing\n",
      "Consulting\n",
      "Blockchain\n",
      "Computer hardware\n",
      "Software\n",
      "Quantum computing\n",
      "IBM Cloud\n",
      "IBM Cognos Analytics\n",
      "IBM Planning Analytics\n",
      "SQL\n",
      "Watson\n",
      "Watsonx\n",
      "Information Management Software\n",
      "SPSS\n",
      "ILOG\n",
      "Tivoli Software\n",
      "WebSphere\n",
      "alphaWorks\n",
      "Mashup Center\n",
      "PureQuery\n",
      "Fortran\n",
      "IBM Quantum Experience\n",
      "Mainframe\n",
      "Power Systems\n",
      "IBM storage\n",
      "IBM Q System One\n",
      "Full List\n",
      "Outsourcing\n",
      "Professional services\n",
      "Managed services\n",
      "US$\n",
      "Operating income\n",
      "Net income\n",
      "Total assets\n",
      "Total equity\n",
      "Subsidiaries\n",
      "List of subsidiaries\n",
      "ibm.com\n",
      "[5]\n",
      "trademark\n",
      "[6]\n",
      "multinational\n",
      "technology company\n",
      "Armonk, New York\n",
      "[7]\n",
      "[8]\n",
      "U.S.\n",
      "patents\n",
      "[9]\n",
      "[10]\n",
      "[11]\n",
      "Computing-Tabulating-Recording Company\n",
      "holding company\n",
      "punch-card tabulating systems\n",
      "IBM mainframe\n",
      "System/360\n",
      "computing platform\n",
      "[12]\n",
      "microcomputer\n",
      "IBM Personal Computer\n",
      "PC\n",
      "[13]\n",
      "[14]\n",
      "intellectual property\n",
      "commodity production\n",
      "Lenovo Group\n",
      "computer services\n",
      "software\n",
      "supercomputers\n",
      "scientific research\n",
      "consistently ranked\n",
      "[12]\n",
      "[15]\n",
      "technology companies\n",
      "technological innovations\n",
      "automated teller machine\n",
      "dynamic random-access memory\n",
      "floppy disk\n",
      "hard disk drive\n",
      "magnetic stripe card\n",
      "relational database\n",
      "SQL programming language\n",
      "UPC barcode\n",
      "computer chips\n",
      "quantum computing\n",
      "artificial intelligence\n",
      "data infrastructure\n",
      "[16]\n",
      "[17]\n",
      "[18]\n",
      "Nobel Prizes\n",
      "Turing Awards\n",
      "[19]\n",
      "publicly traded company\n",
      "Dow Jones Industrial Average\n",
      "world's largest employers\n",
      "[20]\n",
      "[21]\n",
      "largest overall company by revenue in the United States\n",
      "[22]\n",
      "edit\n",
      "History of IBM\n",
      "[23]\n",
      "[24]\n",
      "Herman Hollerith\n",
      "Electric Tabulating Machine\n",
      "[25]\n",
      "Willard Bundy\n",
      "time clock\n",
      "[26]\n",
      "amalgamated\n",
      "Charles Ranlett Flint\n",
      "Computing-Tabulating-Recording Company\n",
      "[1]\n",
      "[27]\n",
      "Binghamton\n",
      "Dayton, Ohio\n",
      "Detroit, Michigan\n",
      "Washington, D.C.\n",
      "Toronto\n",
      "[28]\n",
      "Thomas J. Watson, Sr.\n",
      "National Cash Register Company\n",
      "John Henry Patterson\n",
      "[29]\n",
      "antitrust\n",
      "[30]\n",
      "[31]\n",
      "[32]\n",
      "[33]\n",
      "THINK\n",
      "[32]\n",
      "[32]\n",
      "[34]\n",
      "[35]\n",
      "[36]\n",
      "\n",
      "NACA\n",
      "IBM type 704\n",
      "Nazis\n",
      "Dehomag\n",
      "Holocaust\n",
      "[37]\n",
      "[38]\n",
      "M1 Carbine\n",
      "Automatic Sequence Controlled Calculator\n",
      "IBM 701\n",
      "IBM 305 RAMAC\n",
      "7000\n",
      "1400\n",
      "artificial intelligence\n",
      "Arthur L. Samuel\n",
      "Poughkeepsie\n",
      "IBM 704\n",
      "FORTRAN\n",
      "SABRE reservation system\n",
      "American Airlines\n",
      "Selectric\n",
      "\n",
      "IBM System/360\n",
      "University of Michigan\n",
      "\n",
      "Saturn V Instrument Unit\n",
      "IBM System/360\n",
      "IBM System/370\n",
      "IBM mainframe\n",
      "mainframe computer\n",
      "OS/VS1\n",
      "MVS\n",
      "CICS\n",
      "[39]\n",
      "Sherman Antitrust Act\n",
      "[40]\n",
      "Forrest Parry\n",
      "magnetic stripe card\n",
      "George J. Laurer\n",
      "Universal Product Code\n",
      "[41]\n",
      "World Bank\n",
      "financial swaps\n",
      "[42]\n",
      "IBM PC\n",
      "[43]\n",
      "[44]\n",
      "AdStar\n",
      "Lexmark\n",
      "[45]\n",
      "Clayton & Dubilier\n",
      "leveraged buyout\n",
      "[46]\n",
      "[47]\n",
      "[48]\n",
      "[49]\n",
      "[50]\n",
      "Ambra Computer Corporation\n",
      "clone\n",
      "PowerPC\n",
      "workstations\n",
      "[51]\n",
      "[52]\n",
      "[53]\n",
      "Lou Gerstner\n",
      "RJR Nabisco\n",
      "[54]\n",
      "PwC\n",
      "PwC\n",
      "IBM Global Services\n",
      "[55]\n",
      "[56]\n",
      "\n",
      "hard-disk drive\n",
      "DRAM\n",
      "UPC bar code\n",
      "magnetic stripe card\n",
      "[57]\n",
      "Compaq\n",
      "Dell\n",
      "[58]\n",
      "[59]\n",
      "LG\n",
      "South Korean\n",
      "[60]\n",
      "[61]\n",
      "[62]\n",
      "[63]\n",
      "Xnote\n",
      "[64]\n",
      "sold all of its personal computer business\n",
      "Lenovo\n",
      "[65]\n",
      "SPSS Inc.\n",
      "Blue Gene\n",
      "National Medal of Technology and Innovation\n",
      "Barack Obama\n",
      "Watson\n",
      "Jeopardy!\n",
      "Kenexa\n",
      "[66]\n",
      "web hosting service\n",
      "[67]\n",
      "Davao City\n",
      "[68]\n",
      "x86\n",
      "[69]\n",
      "Power ISA\n",
      "Apple Inc.\n",
      "[70]\n",
      "[71]\n",
      "[72]\n",
      "[73]\n",
      "Tencent\n",
      "[74]\n",
      "Cisco\n",
      "[75]\n",
      "UnderArmour\n",
      "[76]\n",
      "Box\n",
      "[77]\n",
      "Microsoft\n",
      "[78]\n",
      "VMware\n",
      "[79]\n",
      "CSC\n",
      "[80]\n",
      "Macy's\n",
      "[81]\n",
      "Sesame Workshop\n",
      "[82]\n",
      "Sesame Street\n",
      "Salesforce.com\n",
      "[83]\n",
      "[84]\n",
      "Cleversafe\n",
      "The Weather Company\n",
      "Weather.com\n",
      "[85]\n",
      "[86]\n",
      "A Boy and His Atom\n",
      "Ustream\n",
      "[87]\n",
      "[88]\n",
      "[89]\n",
      "Groupon\n",
      "[90]\n",
      "The Weather Company\n",
      "[91]\n",
      "Red Hat\n",
      "[92]\n",
      "[93]\n",
      "[94]\n",
      "[95]\n",
      "John Kelly III\n",
      "Brad Smith\n",
      "Microsoft\n",
      "Vatican\n",
      "Artificial Intelligence (AI)\n",
      "[96]\n",
      "[97]\n",
      "Kyndryl\n",
      "[98]\n",
      "[99]\n",
      "[100]\n",
      "[101]\n",
      "[102]\n",
      "[103]\n",
      "[104]\n",
      "[105]\n",
      "Russian invasion of Ukraine\n",
      "[106]\n",
      "[107]\n",
      "[108]\n",
      "[109]\n",
      "[110]\n",
      "Software AG\n",
      "webMethods\n",
      "[111]\n",
      "edit\n",
      "edit\n",
      "[112]\n",
      "Fortune 500\n",
      "[113]\n",
      "[114]\n",
      "[115]\n",
      "[116]\n",
      "[117]\n",
      "[118]\n",
      "[a]\n",
      "edit\n",
      "\n",
      "Armonk, New York\n",
      "[119]\n",
      "[120]\n",
      "[121]\n",
      "[122]\n",
      "[123]\n",
      "[update]\n",
      "[2]\n",
      "IBM Watson\n",
      "Astor Place\n",
      "Austin, Texas\n",
      "Research Triangle Park (Raleigh-Durham), North Carolina\n",
      "Rochester, Minnesota\n",
      "Silicon Valley, California\n",
      "1250 René-Lévesque\n",
      "One Atlantic Center\n",
      "Pangu Plaza\n",
      "[124]\n",
      "Beijing National Stadium (\"Bird's Nest\")\n",
      "2008 Summer Olympics\n",
      "IBM India Private Limited\n",
      "Bangalore\n",
      "Coimbatore\n",
      "Chennai\n",
      "Kochi\n",
      "Ahmedabad\n",
      "Delhi\n",
      "Kolkata\n",
      "Mumbai\n",
      "Pune\n",
      "Gurugram\n",
      "Noida\n",
      "Bhubaneshwar\n",
      "Surat\n",
      "Visakhapatnam\n",
      "Hyderabad\n",
      "Bangalore\n",
      "Jamshedpur\n",
      "IBM Rome Software Lab\n",
      "Hursley House\n",
      "330 North Wabash\n",
      "Cambridge Scientific Center\n",
      "IBM Toronto Software Lab\n",
      "IBM Building (Seattle)\n",
      "IBM Hakozaki Facility\n",
      "IBM Yamato Facility\n",
      "IBM Canada Head Office Building\n",
      "[125]\n",
      "IBM Somers Office Complex\n",
      "Spango Valley\n",
      "Tour Descartes\n",
      "Marcel Breuer\n",
      "Eero Saarinen\n",
      "Ludwig Mies van der Rohe\n",
      "I.M. Pei\n",
      "Ricardo Legorreta\n",
      "Honor Award\n",
      "National Building Museum\n",
      "[126]\n",
      "United States Environmental Protection Agency\n",
      "Fortune 500\n",
      "commuter\n",
      "[127]\n",
      "Endicott, New York\n",
      "[128]\n",
      "[129]\n",
      "edit\n",
      "List of IBM products\n",
      "\n",
      "Blue Gene\n",
      "National Medal of Technology and Innovation\n",
      "[update]\n",
      "cloud computing\n",
      "commerce\n",
      "data\n",
      "analytics\n",
      "Internet of things\n",
      "[130]\n",
      "IT infrastructure\n",
      "mobile\n",
      "[131]\n",
      "cybersecurity\n",
      "[132]\n",
      "IBM Cloud\n",
      "infrastructure as a service\n",
      "software as a service\n",
      "platform as a service\n",
      "cloud delivery models\n",
      "Bluemix\n",
      "SoftLayer\n",
      "dedicated server\n",
      "managed hosting\n",
      "cloud computing\n",
      "[133]\n",
      "cryptographic splitting\n",
      "[134]\n",
      "Hardware\n",
      "Power microprocessors\n",
      "Xbox 360\n",
      "[135]\n",
      "PlayStation 3\n",
      "Nintendo\n",
      "Wii U\n",
      "[136]\n",
      "[137]\n",
      "Secure Blue\n",
      "[138]\n",
      "TrueNorth\n",
      "neuromorphic\n",
      "CMOS\n",
      "integrated circuit\n",
      "[139]\n",
      "all-flash arrays\n",
      "[140]\n",
      "IT outsourcing\n",
      "data centers\n",
      "[141]\n",
      "IBM Developer\n",
      "SPSS\n",
      "statistical analysis\n",
      "Kenexa\n",
      "retention\n",
      "buzzword\n",
      "BrassRing\n",
      "[142]\n",
      "The Weather Company\n",
      "weather.com\n",
      "Weather Underground\n",
      "[143]\n",
      "Smarter Planet\n",
      "sustainable development\n",
      "[144]\n",
      "[145]\n",
      "smart grids\n",
      "[146]\n",
      "water management\n",
      "[147]\n",
      "[148]\n",
      "[149]\n",
      "developerWorks\n",
      "software developers\n",
      "[150]\n",
      "IBM Watson\n",
      "natural language processing\n",
      "unstructured data\n",
      "[151]\n",
      "Jeopardy!\n",
      "Ken Jennings\n",
      "Brad Rutter\n",
      "Memorial Sloan Kettering Cancer Center\n",
      "oncology\n",
      "melanoma\n",
      "[152]\n",
      "[153]\n",
      "\n",
      "IBM Q System One\n",
      "IBM Q System One\n",
      "[154]\n",
      "New York City Police Department\n",
      "IBM Cognos Analytics\n",
      "CompStat\n",
      "[155]\n",
      "[156]\n",
      "[157]\n",
      "[158]\n",
      "Amazon Web Services\n",
      "[159]\n",
      "[160]\n",
      "Watsonx\n",
      "Generative AI\n",
      "Granite\n",
      "LLMs\n",
      "fine tuning\n",
      "[161]\n",
      "open-sourced\n",
      "Hugging Face\n",
      "[162]\n",
      "Lexmark\n",
      "ThinkPad\n",
      "ThinkCentre\n",
      "Lenovo\n",
      "fabless\n",
      "semiconductors\n",
      "GlobalFoundries\n",
      "Kyndryl\n",
      "[163]\n",
      "[164]\n",
      "Turbonomic\n",
      "[165]\n",
      "Watson Health\n",
      "Francisco Partners\n",
      "[166]\n",
      "Rapidus\n",
      "[167]\n",
      "[168]\n",
      "edit\n",
      "\n",
      "Thomas J. Watson Research Center\n",
      "Yorktown Heights, New York\n",
      "\n",
      "IBM Fellow\n",
      "Benoit Mandelbrot\n",
      "fractal geometry\n",
      "Columbia University\n",
      "IBM Research\n",
      "[169]\n",
      "Thomas J. Watson Research Center\n",
      "Almaden lab\n",
      "Australia lab\n",
      "Brazil lab\n",
      "Haifa lab\n",
      "Bangalore\n",
      "Tokyo lab\n",
      "Zurichlab\n",
      "Nairobi\n",
      "R&D\n",
      "[170]\n",
      "Watson\n",
      "[171]\n",
      "Open Source Initiative\n",
      "Linux\n",
      "[172]\n",
      "Linux Technology Center\n",
      "Linux kernel\n",
      "[173]\n",
      "open-source licenses\n",
      "platform-independent\n",
      "software framework\n",
      "Eclipse\n",
      "[174]\n",
      "ICU\n",
      "Java\n",
      "relational database management system\n",
      "Apache Derby\n",
      "open source\n",
      "SCO v. IBM\n",
      "inventions\n",
      "automated teller machine (ATM)\n",
      "dynamic random access memory (DRAM)\n",
      "electronic keypunch\n",
      "financial swap\n",
      "floppy disk\n",
      "hard disk drive\n",
      "magnetic stripe card\n",
      "relational database\n",
      "RISC\n",
      "SABRE airline reservation system\n",
      "SQL\n",
      "Universal Product Code (UPC)\n",
      "virtual machine\n",
      "scanning tunneling microscope\n",
      "individual xenon atoms\n",
      "[175]\n",
      "patents\n",
      "patents\n",
      "[9]\n",
      "Leo Esaki\n",
      "Gerd Binnig\n",
      "Heinrich Rohrer\n",
      "scanning tunneling microscope\n",
      "[176]\n",
      "Georg Bednorz\n",
      "Alex Müller\n",
      "superconductivity\n",
      "Turing Award\n",
      "Frances E. Allen\n",
      "[177]\n",
      "National Medals of Technology (USA)\n",
      "National Medals of Science (USA)\n",
      "edit\n",
      "\n",
      "John F. Kennedy International Airport\n",
      "[178]\n",
      "[179]\n",
      "dress code\n",
      "[178]\n",
      "[180]\n",
      "graphic designer\n",
      "Paul Rand\n",
      "[181]\n",
      "Helvetica\n",
      "IBM Plex\n",
      "Masters Tournament\n",
      "major championships\n",
      "iPhone\n",
      "[182]\n",
      "Ginni Rometty\n",
      "Augusta National Golf Club\n",
      "[183]\n",
      "U.S. Open\n",
      "Wimbledon\n",
      "[184]\n",
      "Olympic Games\n",
      "[185]\n",
      "National Football League\n",
      "[186]\n",
      "[187]\n",
      "Fortune\n",
      "green company\n",
      "Newsweek\n",
      "[188]\n",
      "Barron's\n",
      "[189]\n",
      "Fortune\n",
      "Fast Company\n",
      "technology consulting\n",
      "Vault\n",
      "[190]\n",
      "[191]\n",
      "Drucker Institute\n",
      "[192]\n",
      "2022 Russian invasion of Ukraine\n",
      "Polish Humanitarian Action\n",
      "People in Need\n",
      "[193]\n",
      "ESG\n",
      "CO2e emissions\n",
      "[194]\n",
      "[195]\n",
      "edit\n",
      "edit\n",
      "IBM and unions\n",
      "List of IBM CEOs\n",
      "\n",
      "\n",
      "IBM Watson\n",
      "Jeopardy!\n",
      "group life insurance\n",
      "Thomas J. Watson, Jr.\n",
      "Brown vs. Board of Education\n",
      "Civil Rights Act of 1964\n",
      "Human Rights Campaign\n",
      "[196]\n",
      "health benefits\n",
      "genetic information\n",
      "Working Mother\n",
      "[197]\n",
      "human resources\n",
      "[198]\n",
      "humanitarian work\n",
      "[199]\n",
      "interns\n",
      "Extreme Blue\n",
      "[200]\n",
      "[201]\n",
      "Master Inventor\n",
      "IBM Fellow\n",
      "[202]\n",
      "Louis V. Gerstner Jr.\n",
      "[203]\n",
      "[204]\n",
      "[205]\n",
      "[206]\n",
      "[207]\n",
      "unions represent some IBM workers\n",
      "[208]\n",
      "American football\n",
      "X-League\n",
      "Big Blue\n",
      "[209]\n",
      "Mac\n",
      "PC\n",
      "Linux distribution\n",
      "[210]\n",
      "[211]\n",
      "edit\n",
      "Apple Inc.\n",
      "Tim Cook\n",
      "[212]\n",
      "EDS\n",
      "Ross Perot\n",
      "Microsoft\n",
      "John W. Thompson\n",
      "SAP\n",
      "Hasso Plattner\n",
      "Gartner\n",
      "Gideon Gartner\n",
      "Advanced Micro Devices (AMD)\n",
      "Lisa Su\n",
      "[213]\n",
      "Cadence Design Systems\n",
      "Anirudh Devgan\n",
      "[214]\n",
      "Citizens Financial Group\n",
      "Ellen Alemany\n",
      "Yahoo!\n",
      "Alfred Amoroso\n",
      "AT&T\n",
      "C. Michael Armstrong\n",
      "Xerox Corporation\n",
      "David T. Kearns\n",
      "G. Richard Thoman\n",
      "[215]\n",
      "Fair Isaac Corporation\n",
      "Mark N. Greene\n",
      "[216]\n",
      "Citrix Systems\n",
      "Ed Iacobucci\n",
      "ASOS.com\n",
      "Lenovo\n",
      "Steve Ward\n",
      "Teradata\n",
      "Kenneth Simonds\n",
      "Patricia Roberts Harris\n",
      "United States Secretary of Housing and Urban Development\n",
      "African American\n",
      "woman\n",
      "United States Cabinet\n",
      "[217]\n",
      "Samuel K. Skinner\n",
      "U.S. Secretary of Transportation\n",
      "White House Chief of Staff\n",
      "U.S. Senators\n",
      "Mack Mattingly\n",
      "Thom Tillis\n",
      "Wisconsin\n",
      "Scott Walker\n",
      "[218]\n",
      "U.S. Ambassadors\n",
      "Vincent Obsitnik\n",
      "Slovakia\n",
      "Arthur K. Watson\n",
      "France\n",
      "Thomas Watson Jr.\n",
      "Soviet Union\n",
      "U.S. Representatives\n",
      "Todd Akin\n",
      "[219]\n",
      "Glenn Andrews\n",
      "Robert Garcia\n",
      "Katherine Harris\n",
      "[220]\n",
      "Amo Houghton\n",
      "Jim Ross Lightfoot\n",
      "Thomas J. Manton\n",
      "Donald W. Riegle Jr.\n",
      "Ed Zschau\n",
      "NASA\n",
      "Michael J. Massimino\n",
      "Canadian astronaut\n",
      "Governor General\n",
      "Julie Payette\n",
      "Dave Matthews\n",
      "[221]\n",
      "Harvey Mudd College\n",
      "Maria Klawe\n",
      "Western Governors University\n",
      "Robert Mendenhall\n",
      "University of Kentucky\n",
      "Lee T. Todd Jr.\n",
      "University of Iowa\n",
      "Bruce Harreld\n",
      "NFL\n",
      "Bill Carollo\n",
      "[222]\n",
      "Rangers F.C.\n",
      "John McClelland\n",
      "Nobel Prize in Literature\n",
      "J. M. Coetzee\n",
      "Thomas Watson Jr.\n",
      "11th national president\n",
      "Boy Scouts of America\n",
      "edit\n",
      "Anthem\n",
      "Dow Chemical\n",
      "Johnson and Johnson\n",
      "Royal Dutch Shell\n",
      "UPS\n",
      "Vanguard\n",
      "Cornell University\n",
      "U.S. Navy admiral\n",
      "[223]\n",
      "[224]\n",
      "Warren Buffett\n",
      "holding company\n",
      "Berkshire Hathaway\n",
      "[225]\n",
      "[226]\n",
      "edit\n",
      "List of electronics brands\n",
      "List of largest Internet companies\n",
      "List of largest manufacturing companies by revenue\n",
      "Tech companies in the New York City metropolitan region\n",
      "Top 100 US Federal Contractors\n",
      "Quantum Energy Teleportation\n",
      "edit\n",
      "^\n",
      "Kyndryl\n",
      "edit\n",
      "a\n",
      "b\n",
      "Appendix to Hearings Before the Committee on Patents, House of Representatives, Seventy-Fourth Congress, on H. R. 4523, Part III\n",
      "archived\n",
      "a\n",
      "b\n",
      "\"IBM Is Blowing Up Its Annual Performance Review\"\n",
      "Archived\n",
      "^\n",
      "\"IBM – Arvind Krishna – Chief Executive Officer\"\n",
      "Archived\n",
      "^\n",
      "\"IBM Newsroom - Gary Cohn\"\n",
      "^\n",
      "\"US SEC: Form 10-K IBM\"\n",
      "U.S. Securities and Exchange Commission\n",
      "^\n",
      "\"IBM100 - The Making of International Business Machines\"\n",
      "the original\n",
      "^\n",
      "\"Trust and responsibility. Earned and practiced daily\"\n",
      "^\n",
      "\"10-K\"\n",
      "Archived\n",
      "a\n",
      "b\n",
      "\"Top Patent Holders of 2020\"\n",
      "Archived\n",
      "^\n",
      "\"2021 Top 50 US Patent Assignees\"\n",
      "^\n",
      "\"Why IBM is no longer interested in breaking patent records–and how it plans to measure innovation in the age of open source and quantum computing\"\n",
      "Archived\n",
      "a\n",
      "b\n",
      "\"IBM | Founding, History, & Products | Britannica\"\n",
      "^\n",
      "ISBN\n",
      "0-470-86412-5\n",
      "^\n",
      "\"Origin of the IBM PC | Low End Mac\"\n",
      "^\n",
      "\"IBM Tops U.S. Patent List for 28th Consecutive Year with Innovations in Artificial Intelligence, Hybrid Cloud, Quantum Computing and Cyber-Security\"\n",
      "^\n",
      "\"IBM unveils new quantum computing chip to 'explore new frontiers of science'\"\n",
      "ISSN\n",
      "0261-3077\n",
      "^\n",
      "\"The Evolution Of AI: From IBM And AWS To OpenAI and Anthropic\"\n",
      "^\n",
      "\"IBM Realigns Its Storage Business To Match Data-Driven Enterprise Needs\"\n",
      "^\n",
      "\"About us\"\n",
      "^\n",
      "\"Fortune 500\"\n",
      "^\n",
      "Schofield, Jack\n",
      "\"IBM shows growth after 22 straight quarters of declining revenues, but has it turned the corner?\"\n",
      "the original\n",
      "^\n",
      "\"IBM Brand Ranking | All Brand Rankings where IBM is listed!\"\n",
      "^\n",
      "Images of America: IBM in Endicott\n",
      "Arcadia Publishing\n",
      "ISBN\n",
      "0-7385-3700-4\n",
      "Archived\n",
      "^\n",
      "\"Dey dial recorder, early 20th century\"\n",
      "Archived\n",
      "^\n",
      "\"Hollerith 1890 Census Tabulator\"\n",
      "Columbia University\n",
      "Archived\n",
      "^\n",
      "\"Employee Punch Clocks\"\n",
      "the original\n",
      "^\n",
      "\"Tabulating Concerns Unite: Flint & Co. Bring Four Together with $19,000,000 capital\"\n",
      "Archived\n",
      "^\n",
      "\"The origins of IBM | IBM\"\n",
      "^\n",
      "The Lengthening Shadow: The Life of Thomas J. Watson\n",
      "89–93\n",
      "^\n",
      "ISBN\n",
      "978-1-000-87875-2\n",
      "^\n",
      "a\n",
      "b\n",
      "c\n",
      "\"Chronological History of IBM, 1910s\"\n",
      "Archived\n",
      "^\n",
      "Wherever Men Trade: The Romance of the Cash Register\n",
      "ISBN\n",
      "978-0-405-04713-8\n",
      "OCLC\n",
      "243101\n",
      "^\n",
      "^\n",
      "\"Made in the USA: American tech inventions\"\n",
      "^\n",
      "^\n",
      "IBM and the Holocaust: The Strategic Alliance Between Nazi Germany and America's Most Powerful Corporation\n",
      "ISBN\n",
      "978-0-914153-10-8\n",
      "^\n",
      "ISBN\n",
      "978-1-4594-0987-3\n",
      "^\n",
      "Campbell-Kelly, Martin\n",
      "MIT Press\n",
      "^\n",
      "\"Monopolization: Corporate Strategy, the IBM Cases, and the Transformation of the Law\"\n",
      "Texas Law Review\n",
      "Archived\n",
      "^\n",
      "\"The history of the UPC bar code and how the bar code symbol and system became a world standard\"\n",
      "Archived\n",
      "^\n",
      "McGraw Hill\n",
      "^\n",
      "\"'Break Up IBM,' Cry Some Investors Who See Value in Those Baby Blues\"\n",
      "^\n",
      "\"Big Blue still breaking up its bureaucracy\"\n",
      "^\n",
      "\"Facts, Figures on IBM's 13 Decentralized Firms\"\n",
      "^\n",
      "\"The Executive Computer; Can I.B.M. Learn From a Unit It Freed?\"\n",
      "^\n",
      "\"IBM Plans Division For Its PC Business; One Executive Expected to Be Put in Control\"\n",
      "the original\n",
      "^\n",
      "\"With New Approach and Executive Team, IBM Seeks a Rebirth\"\n",
      "the original\n",
      "^\n",
      "\"IBM to Unveil New Structure of PC Business\"\n",
      "^\n",
      "\"IBM reports record loss of $8 billion\"\n",
      "^\n",
      "\"I.B.M. and Dell Stake Out the Little Picture in PC's\"\n",
      "the original\n",
      "^\n",
      "\"IBM Power Personal Systems group to be folded into PC Co\"\n",
      "^\n",
      "\"Life science: Fade or flourish ?\"\n",
      "the original\n",
      "^\n",
      "\"IBM Archives: Louis V. Gerstner, Jr\"\n",
      "Archived\n",
      "^\n",
      "\"IBM to acquire PwC Consulting for $3.5 billion\"\n",
      "^\n",
      "\"IBM grabs consulting giant for $3.5 billion\"\n",
      "^\n",
      "\"Not Your Father's PC Company Anymore\"\n",
      "^\n",
      "\"The Strategy For I.B.M.: Loss-Leader PC Sales\"\n",
      "ISSN\n",
      "0362-4331\n",
      "^\n",
      "\"Big Blue to combine PC division with PSG\"\n",
      "^\n",
      "\"IBM, LG Electronics Call Halt To PC Joint Venture in Korea\"\n",
      "The Wall Street Journal\n",
      "ISSN\n",
      "0099-9660\n",
      "^\n",
      "\"LG, IBM to split by end of year\"\n",
      "Korea JoongAng Daily\n",
      "^\n",
      "\"IBM, LG Electronics to End Joint Venture\"\n",
      "Forbes\n",
      "the original\n",
      "^\n",
      "Vance, Ashlee\n",
      "\"South Korea slams IBM with server slush fund charges\"\n",
      "^\n",
      "\"Laptop Retrospective\"\n",
      "^\n",
      "\"Lenovo Completes Acquisition Of IBM's Personal Computing Division\"\n",
      "Archived\n",
      "^\n",
      "\"IBM Plans to Acquire Texas Memory Systems\"\n",
      "Archived\n",
      "^\n",
      "\"IBM to buy website hosting service SoftLayer\"\n",
      "Archived\n",
      "^\n",
      "\"Inside the Video Surveillance Program IBM Built for Philippine Strongman Rodrigo Duterte\"\n",
      "Archived\n",
      "^\n",
      "\"Lenovo says $2.1 billion IBM x86 server deal to close on Wednesday\"\n",
      "Archived\n",
      "^\n",
      "\"Apple + IBM\"\n",
      "Archived\n",
      "^\n",
      "\"Apple Teams Up With IBM For Huge, Expansive Enterprise Push\"\n",
      "Archived\n",
      "^\n",
      "\"Landmark IBM Twitter partnership to help businesses make decisions\"\n",
      "Archived\n",
      "^\n",
      "\"IBM Announces Marketing Partnership With Facebook\"\n",
      "Archived\n",
      "^\n",
      "\"Tencent teams up with IBM to offer business software over the cloud\"\n",
      "Archived\n",
      "^\n",
      "\"Cisco and IBM's New Partnership Is a Lot About Talk\"\n",
      "Archived\n",
      "^\n",
      "\"IBM, Under Armour Team Up To Bring Cognitive Computing To Fitness Apps\"\n",
      "Archived\n",
      "^\n",
      "\"IBM, Box Cloud Partnership: What It Means\"\n",
      "Archived\n",
      "^\n",
      "\"Microsoft just made a deal with IBM – and Apple should be nervous\"\n",
      "Archived\n",
      "^\n",
      "\"VMware and SugarCRM expand partnerships with IBM, make services available on IBM Cloud\"\n",
      "Archived\n",
      "^\n",
      "\"IBM, CSC Expand Their Cloud Deal to the Mainframe\"\n",
      "^\n",
      "\"Macy's Taps IBM, Satisfi for In-Store Shopping Companion\"\n",
      "^\n",
      "\"Sesame Workshop, IBM partner to use Watson for preschoolers\"\n",
      "Archived\n",
      "^\n",
      "\"IBM, Salesforce Strike Global Partnership on Cloud, AI\"\n",
      "Archived\n",
      "^\n",
      "\"IBM Buys Merge Healthcare to Boost Watson Health Cloud\"\n",
      "Archived\n",
      "^\n",
      "\"IBM Agrees to Acquire Weather Channel's Digital Assets\"\n",
      "Archived\n",
      "^\n",
      "\"IBM to Acquire the Weather Company\"\n",
      "Archived\n",
      "^\n",
      "\"IBM acquires Ustream, launches cloud video unit\"\n",
      "Archived\n",
      "^\n",
      "\"IBM Acquires Ustream: Behind the Acquisition\"\n",
      "Archived\n",
      "^\n",
      "\"Big Blue isn't so big anymore\"\n",
      "Archived\n",
      "^\n",
      "\"Groupon sues 'once-great' IBM over patent\"\n",
      "Archived\n",
      "^\n",
      "\"IBM Buys Digital Part of The Weather Company\"\n",
      "Archived\n",
      "^\n",
      "\"IBM to Acquire Red Hat for About $33 Billion\"\n",
      "The Wall Street Journal\n",
      "ISSN\n",
      "0099-9660\n",
      "Archived\n",
      "^\n",
      "\"IBM to Acquire Linux Distributor Red Hat for $33.4 Billion\"\n",
      "Archived\n",
      "^\n",
      "\"IBM to acquire Red Hat, completely changing the cloud landscape and becoming world's #1 hybrid cloud provider\"\n",
      "Archived\n",
      "^\n",
      "\"IBM Closes Landmark Acquisition of Red Hat for $34 Billion; Defines Open, Hybrid Cloud Future\"\n",
      "Archived\n",
      "^\n",
      "\"Cisco Systems joins Microsoft, IBM in Vatican pledge to ensure ethical use and development of AI\"\n",
      "The Associated Press\n",
      "^\n",
      "\"IBM To Accelerate Hybrid Cloud Growth Strategy And Execute Spin-Off Of Market-Leading Managed Infrastructure Services Unit\"\n",
      "Archived\n",
      "^\n",
      "\"IBM to break up 109-year old company to focus on cloud growth\"\n",
      "Archived\n",
      "^\n",
      "\"IBM spins off a quarter of the company to focus on the cloud\"\n",
      "Archived\n",
      "^\n",
      "\"IBM shares rise on plans to spin off its IT infrastructure unit and focus on the cloud business\"\n",
      "Archived\n",
      "^\n",
      "\"IBM to Spin Off Services Unit to Accelerate Cloud-Computing Pivot\"\n",
      "Archived\n",
      "^\n",
      "\"IBM Splits Into Two Companies\"\n",
      "Archived\n",
      "^\n",
      "\"IBM Spinning Off Infrastructure Managed Services Group To Focus On Cloud Is A Good Move\"\n",
      "Archived\n",
      "^\n",
      "\"IBM names Martin Schroeter as CEO of $19B NewCo services spinoff\"\n",
      "Archived\n",
      "^\n",
      "\"IBM names former financial chief Martin Schroeter as head of new IT infrastructure services company\"\n",
      "The Economic Times\n",
      "Reuters\n",
      "Archived\n",
      "^\n",
      "\"Update on Our Actions: War in Ukraine\"\n",
      "^\n",
      "\"IBM finally shutters Russian operations, lays off staff\"\n",
      "^\n",
      "\"IBM Extends Watson.x Governance & Compliance with Manta Acquisition\"\n",
      "^\n",
      "\"IBM suspends ads on X after corporate ads appeared next to pro-Nazi content\"\n",
      "Archived\n",
      "^\n",
      "\"Advertisers Push Back at Social Media Firms over Antisemitism\"\n",
      "Archived\n",
      "^\n",
      "\"IBM to buy Software AG's enterprise integration platforms for $2.3 billion\"\n",
      "^\n",
      "\"IBM Market Cap 2010–2023 | IBM\"\n",
      "Archived\n",
      "^\n",
      "\"Fortune 500\"\n",
      "Archived\n",
      "^\n",
      "\"The Truth About IBM's Buybacks\"\n",
      "Archived\n",
      "^\n",
      "\"IBM and the financial engineering economy: James Saft\"\n",
      "Archived\n",
      "^\n",
      "\"Boring IBM Just Got a Lot More Interesting\"\n",
      "Archived\n",
      "^\n",
      "\"IBM Fundamentalanalyse | KGV | Kennzahlen\"\n",
      "^\n",
      "\"IBM 2008-2016\"\n",
      "the original\n",
      "^\n",
      "\"Contact Us\"\n",
      "Archived\n",
      "^\n",
      "\"Dominance Ended, I.B.M. Fights Back\"\n",
      "Archived\n",
      "^\n",
      "\"IBM's New Headquarters Reflects A Change in Corporate Style\"\n",
      "The New York Times\n",
      "Archived\n",
      "^\n",
      "\"On the Dedication of the Louis V. Gerstner, Jr., Center for Learning – THINK Blog\"\n",
      "Archived\n",
      "^\n",
      "\"Property Overview\"\n",
      "the original\n",
      "^\n",
      "\"Company Overview of IBM China Company Limited\"\n",
      "Archived\n",
      "^\n",
      "\"Watson IoT Headquarters\"\n",
      "Archived\n",
      "^\n",
      "The Washington Post\n",
      "^\n",
      "\"Environmental Protection\"\n",
      "Archived\n",
      "^\n",
      "\"Village of Endicott Environmental Investigations\"\n",
      "Archived\n",
      "^\n",
      "\"In an I.B.M. Village, Pollution Fears Taint Relations With Neighbors\"\n",
      "Archived\n",
      "^\n",
      "\"IBM Investing $3B in Internet of Things\"\n",
      "Archived\n",
      "^\n",
      "\"Digital workplace services\"\n",
      "Archived\n",
      "^\n",
      "\"IBM Products\"\n",
      "Archived\n",
      "^\n",
      "\"Data Center Knowledge – SoftLayer: $78 Million in First Quarter Revenue\"\n",
      "Archived\n",
      "^\n",
      "\"Cloud computing news: Security\"\n",
      "Archived\n",
      "^\n",
      "\"IBM delivers Power-based chip for Microsoft Xbox 360 worldwide launch\"\n",
      "Archived\n",
      "^\n",
      "\"IBM microprocessors drive the new Nintendo WiiU console\"\n",
      "Archived\n",
      "^\n",
      "\"IBM's 45nm SOI microprocessors at core of Nintendo Wii U\"\n",
      "the original\n",
      "^\n",
      "\"Building a smarter planet\"\n",
      "Archived\n",
      "^\n",
      "\"New research initiative sees IBM commit $3 bn\"\n",
      "the original\n",
      "^\n",
      "\"IBM launches flash arrays for smaller enterprises, aims to court EMC, Dell customers\"\n",
      "Archived\n",
      "^\n",
      "\"IBM. Global locations for your global business\"\n",
      "Archived\n",
      "^\n",
      "\"Kenexa Corporation | Company Profile from Hoover's\"\n",
      "Archived\n",
      "^\n",
      "\"IBM to Acquire the Weather Company\"\n",
      "Archived\n",
      "^\n",
      "\"Big Blue's Smarter Marketing Playbook\"\n",
      "Archived\n",
      "^\n",
      "\"At IBM Research, a constant quest for the bleeding edge\"\n",
      "^\n",
      "\"Smart Grid\"\n",
      "the original\n",
      "^\n",
      "\"Smarter Water Management\"\n",
      "the original\n",
      "^\n",
      "\"Smart traffic\"\n",
      "the original\n",
      "^\n",
      "\"Smarter Buildings\"\n",
      "the original\n",
      "^\n",
      "\"About developerWorks\"\n",
      "IBM developerWorks\n",
      "Archived\n",
      "^\n",
      "\"What is Watson?\"\n",
      "Archived\n",
      "^\n",
      "\"Watson Oncology\"\n",
      "the original\n",
      "^\n",
      "\"IBM's Watson Now A Customer Service Agent, Coming To Smartphones Soon\"\n",
      "Archived\n",
      "^\n",
      "\"IBM Unveils Q System One Quantum Computer\"\n",
      "Archived\n",
      "^\n",
      "\"NYPD changes the crime control equation by transforming the way it uses information\"\n",
      "Archived\n",
      "^\n",
      "\"IBM to build Europe's first quantum computer in Germany\"\n",
      "Archived\n",
      "^\n",
      "\"IBM Policy\"\n",
      "^\n",
      "\"IBM exits facial recognition business, calls for police reform\"\n",
      "^\n",
      "\"IBM steps up its cloud partnership strategy with AWS deal\"\n",
      "^\n",
      "\"How Quantum Computing Will Transform Our World\"\n",
      "^\n",
      "\"IBM rolls out new generative AI features and models\"\n",
      "^\n",
      "\"IBM Makes Granite AI Models Open-Source Under New InstructLab Platform\"\n",
      "ExtremeTech\n",
      "^\n",
      "\"IBM to Spin off $19B Business to Focus on Cloud Computing\"\n",
      "^\n",
      "\"IBM to name infrastructure services business 'Kyndryl' after spinoff\"\n",
      "Archived\n",
      "^\n",
      "\"IBM to Acquire Software Provider Turbonomic for Over $1.5 Billion\"\n",
      "Archived\n",
      "^\n",
      "\"IBM sells Watson Health assets to investment firm Francisco Partners\"\n",
      "ZDNet\n",
      "Archived\n",
      "^\n",
      "\"IBM and Rapidus Form Strategic Partnership to Build Advanced Semiconductor Technology and Ecosystem in Japan\"\n",
      "^\n",
      "\"GlobalFoundries sues IBM, says trade secrets were unlawfully given to Japan's Rapidus\"\n",
      "^\n",
      "\"IBM Research: Global labs\"\n",
      "Archived\n",
      "^\n",
      "\"IBM's expenditure on research and development from 2005 to 2015 (in billion U.S. dollars)\"\n",
      "Archived\n",
      "^\n",
      "\"Ginni Rometty just set a big goal for IBM: spending $4 billion to bring in $40 billion\"\n",
      "Archived\n",
      "^\n",
      "\"IBM launches biggest Linux lineup ever\"\n",
      "the original\n",
      "^\n",
      "\"IBM invests in Brazil Linux Tech Center\"\n",
      "LWN.net\n",
      "Archived\n",
      "^\n",
      "\"Interview: The Eclipse code donation\"\n",
      "the original\n",
      "^\n",
      "\"IBM Archives: \"IBM\" atoms\"\n",
      "Archived\n",
      "^\n",
      "\"The Nobel Prize in Physics 1986 – Press Release\"\n",
      "Archived\n",
      "^\n",
      "Communications of the ACM\n",
      "doi\n",
      "10.1145/1866739.1866752\n",
      "ISSN\n",
      "0001-0782\n",
      "S2CID\n",
      "11847872\n",
      "a\n",
      "b\n",
      "Postphenomenology: A Critical Companion to Ihde\n",
      "State University of New York Press\n",
      "ISBN\n",
      "0-7914-6787-2\n",
      "Archived\n",
      "^\n",
      "Logos, Letterheads & Business Cards: Design for Profit\n",
      "ISBN\n",
      "2-88046-750-0\n",
      "permanent dead link\n",
      "^\n",
      "The Essential Guide to Computing: The Story of Information Technology\n",
      "55\n",
      "ISBN\n",
      "0-13-019469-7\n",
      "^\n",
      "\"IBM Archives\"\n",
      "Archived\n",
      "^\n",
      "\"IBM and Masters Celebrate 20 Years\"\n",
      "Archived\n",
      "^\n",
      "\"IBM CEO Ginni Rometty is Augusta National's third female member\"\n",
      "Archived\n",
      "^\n",
      "\"Why IBM dominates the U.S. Open\"\n",
      "Archived\n",
      "^\n",
      "\"IBM, Olympics Part Ways After 40 Years\"\n",
      "Archived\n",
      "^\n",
      "\"IBM Ends Its NFL Sponsorship Over Difference in Views\"\n",
      "Archived\n",
      "^\n",
      "\"Best Global Brands Ranking for 2012\"\n",
      "the original\n",
      "^\n",
      "\"IBM #1 in Green Rankingss for 2012\"\n",
      "Archived\n",
      "^\n",
      "\"The World's Most Respected Companies\"\n",
      "Archived\n",
      "^\n",
      "\"Tech Consulting Firm Rankings 2012: Best Firms in Each Practice Area\"\n",
      "the original\n",
      "^\n",
      "\"The World's Most Valuable Brands\"\n",
      "Forbes\n",
      "the original\n",
      "^\n",
      "\"The Best-Managed Companies of 2020—and How They Got That Way\"\n",
      "Archived\n",
      "^\n",
      "\"Tech companies increase donations to Ukraine\"\n",
      "^\n",
      "\"IBM's ESG Datasheet for 2020Q4\"\n",
      "the original\n",
      "Alt URL\n",
      "Archived\n",
      "Wayback Machine\n",
      "^\n",
      "\"IBM Commits To Net Zero Greenhouse Gas Emissions By 2030\"\n",
      "^\n",
      "\"International Business Machines Corp. (IBM) profile\"\n",
      "permanent dead link\n",
      "^\n",
      "\"IBM\"\n",
      "Archived\n",
      "^\n",
      "\"The IBM Corporate Service Corps\"\n",
      "Archived\n",
      "^\n",
      "\"Why IBM Gives Top Employees a Month to Do Service Abroad\"\n",
      "Archived\n",
      "^\n",
      "\"Extreme Blue web page\"\n",
      "Archived\n",
      "^\n",
      "\"IBM Launches Distinguished Designer Program\"\n",
      "^\n",
      "Strategic Marketing Communications: New Ways to Build and Integrate Communications\n",
      "ISBN\n",
      "0-7494-2918-6\n",
      "Archived\n",
      "^\n",
      "\"IBM Attire\"\n",
      "Archived\n",
      "^\n",
      "\"IBM stands for 'I've Been Moved'\"\n",
      "Archived\n",
      "^\n",
      "\"IBM stands for \"I'm by myself' for teleworkers of the blue giant\"\n",
      "Archived\n",
      "^\n",
      "Intelligent Mentoring\n",
      "ISBN\n",
      "978-0-13-700949-7\n",
      "Archived\n",
      "^\n",
      "\"The Union Avoidance Industry in the United States\"\n",
      "doi\n",
      "10.1111/j.1467-8543.2006.00518.x\n",
      "S2CID\n",
      "155066215\n",
      "the original\n",
      "^\n",
      "\"IBM Global Unions Links\"\n",
      "the original\n",
      "^\n",
      "\"In Japan, IBM employees have formed a football team complete with pro stadium, cheerleaders and televised games\"\n",
      "Archived\n",
      "^\n",
      "\"Switch to Macs from PCs reportedly saves IBM $270 per user\"\n",
      "the original\n",
      "^\n",
      "\"After overhauling its performance review system, IBM now uses an app to give and receive real-time feedback\"\n",
      "Archived\n",
      "^\n",
      "\"Timothy D. Cook Profile\"\n",
      "the original\n",
      "^\n",
      "\"Executive Biographies – Lisa Su\"\n",
      "Archived\n",
      "^\n",
      "\"Leadership Team\"\n",
      "Archived\n",
      "^\n",
      "^\n",
      "\"Fair Isaac CEO: FICO criticism isn't 'fair'\"\n",
      "Archived\n",
      "^\n",
      "DeLaat, Jacqueline\n",
      "Women in World History, Vol. 7: Harr-I\n",
      "ISBN\n",
      "0-7876-4066-2\n",
      "^\n",
      "\"Wisconsin Gov. Scott Walker: A 2016 Contender But Not A College Graduate\"\n",
      "Archived\n",
      "^\n",
      "\"Official Manual of the State of Missouri, 1993–1994\"\n",
      "permanent dead link\n",
      "^\n",
      "\"Katherine Harris' Biography\"\n",
      "Project Vote Smart\n",
      "Archived\n",
      "^\n",
      "\"POP/JAZZ; A Band That Built a Career From the Ground Up\"\n",
      "The New York Times\n",
      "Archived\n",
      "^\n",
      "\"Board of Directors — Officers\"\n",
      "the original\n",
      "^\n",
      "\"Board of Directors\"\n",
      "Archived\n",
      "^\n",
      "\"International Business Machines Corporation Common Stock (IBM) Institutional Holdings\"\n",
      "^\n",
      "\"Warren Buffett never liked tech stocks. So why does he own Apple?\"\n",
      "The Washington Post\n",
      "Archived\n",
      "^\n",
      "\"Warren Buffett says Berkshire Hathaway has sold completely out of IBM\"\n",
      "Archived\n",
      "edit\n",
      "History of IBM § Further reading\n",
      "ISBN\n",
      "978-0-7099-3828-6\n",
      "Oxford University Press\n",
      "Black, Edwin\n",
      "IBM and the Holocaust: The Strategic Alliance Between Nazi Germany and America's Most Powerful Corporation\n",
      "ISBN\n",
      "0-914153-10-2\n",
      "Big Blues: The Unmaking of IBM\n",
      "ISBN\n",
      "978-0-517-59197-0\n",
      "Gerstner, Louis V. Jr.\n",
      "ISBN\n",
      "0-00-715448-8\n",
      "ISBN\n",
      "978-0-9833734-6-9\n",
      "ISBN\n",
      "978-0-8166-7039-0\n",
      "The Global IBM: Leadership in Multinational Management\n",
      "374\n",
      "ISBN\n",
      "978-0-396-09259-9\n",
      "ISBN\n",
      "0-87584-654-8\n",
      "MIT Press\n",
      "Steinhilper, Ulrich\n",
      "ISBN\n",
      "1-872836-75-5\n",
      "ISBN\n",
      "978-1-4401-9258-6\n",
      "Watson, Thomas Jr.\n",
      "Father, Son & Co: My Life at IBM and Beyond\n",
      "ISBN\n",
      "0-553-29023-1\n",
      "edit\n",
      "sister projects\n",
      "Definitions\n",
      "Media\n",
      "News\n",
      "Quotations\n",
      "Texts\n",
      "Textbooks\n",
      "Resources\n",
      "Official website\n",
      "\n",
      "IBM companies\n",
      "OpenCorporates\n",
      "Google\n",
      "SEC filings\n",
      "Yahoo!\n",
      "v\n",
      "t\n",
      "e\n",
      "IBM\n",
      "History\n",
      "History\n",
      "Mergers and acquisitions\n",
      "PC business acquisition by Lenovo\n",
      "Products\n",
      "Mainframe\n",
      "IBM Z\n",
      "Power microprocessors\n",
      "Power Systems\n",
      "Storage\n",
      "FlashSystem\n",
      "DS8000\n",
      "Q System One\n",
      "Q System Two\n",
      "Eagle\n",
      "Osprey\n",
      "Heron\n",
      "Condor\n",
      "Blue Gene\n",
      "Cell microprocessors\n",
      "PowerPC\n",
      "Midrange computer\n",
      "Personal Computer\n",
      "Selectric\n",
      "ThinkPad\n",
      "alphaWorks\n",
      "Carbon Design System\n",
      "Cloud\n",
      "Cloudant\n",
      "Cognos Analytics\n",
      "Connections\n",
      "Criminal Reduction Utilising Statistical History\n",
      "Fortran\n",
      "ILOG\n",
      "Information Management Software\n",
      "Lotus Software\n",
      "Mainframe operating systems\n",
      "Mashup Center\n",
      "Planning Analytics\n",
      "PureQuery\n",
      "Quantum Platform\n",
      "Qiskit\n",
      "OpenQASM\n",
      "Rational Software\n",
      "SPSS\n",
      "Tivoli Software\n",
      "Service Automation Manager\n",
      "Watson\n",
      "Watsonx\n",
      "Granite\n",
      "WebSphere\n",
      "Apptio\n",
      "Center for The Business of Government\n",
      "Consulting\n",
      "Promontory\n",
      "Kenexa\n",
      "International subsidiaries\n",
      "India\n",
      "Press\n",
      "Red Hat\n",
      "Research\n",
      "AdStar\n",
      "AIM alliance\n",
      "Kaleida Labs\n",
      "Taligent\n",
      "Ambra Computer\n",
      "Cognos\n",
      "EduQuest\n",
      "Kyndryl\n",
      "Lexmark\n",
      "Merative\n",
      "Microelectronics\n",
      "Product Center\n",
      "Science Research Associates\n",
      "Service Bureau\n",
      "The Weather Company\n",
      "Weather Underground\n",
      "1250 René-Lévesque\n",
      "One Atlantic Center\n",
      "Rome Software Lab\n",
      "Toronto Software Lab\n",
      "330 North Wabash\n",
      "Honolulu\n",
      "Seattle\n",
      "Thomas J. Watson Research Center\n",
      "Hakozaki Facility\n",
      "Yamato Facility\n",
      "Cambridge Scientific Center\n",
      "IBM Hursley\n",
      "Canada Head Office Building\n",
      "IBM Rochester\n",
      "Deep Thunder\n",
      "Developer\n",
      "Develothon\n",
      "Fellow\n",
      "The Great Mind Challenge\n",
      "Linux Technology Center\n",
      "SkillsBuild\n",
      "Smarter Planet\n",
      "Virtual Universe Community\n",
      "World Community Grid\n",
      "Think conference\n",
      "Automated teller machine\n",
      "Cynefin framework\n",
      "DRAM\n",
      "Electronic keypunch\n",
      "Floppy disk\n",
      "Hard disk drive\n",
      "Magnetic stripe card\n",
      "Relational model\n",
      "Sabre airline reservation system\n",
      "Scanning tunneling microscope\n",
      "Financial swaps\n",
      "Universal Product Code\n",
      "Big Blue\n",
      "Commercial Processing Workload\n",
      "Customer engineer\n",
      "Globally integrated enterprise\n",
      "e-business\n",
      "Think slogan\n",
      "CEOs\n",
      "Thomas J. Watson\n",
      "Thomas Watson Jr.\n",
      "T. Vincent Learson\n",
      "Frank T. Cary\n",
      "John R. Opel\n",
      "John Fellows Akers\n",
      "Louis V. Gerstner Jr.\n",
      "Samuel J. Palmisano\n",
      "Ginni Rometty\n",
      "Arvind Krishna\n",
      "Thomas Buberl\n",
      "David Farr\n",
      "Alex Gorsky\n",
      "Michelle J. Howard\n",
      "Arvind Krishna\n",
      "Andrew Liveris\n",
      "Martha E. Pollack\n",
      "Joseph R. Swedish\n",
      "Peter R. Voser\n",
      "A Boy and His Atom\n",
      "American football\n",
      "Rugby union\n",
      "Common Public License\n",
      "IBM Public License\n",
      "Deep Blue\n",
      "Deep Thought\n",
      "Dynamic infrastructure\n",
      "GlobalFoundries\n",
      "GUIDE International\n",
      "IBM and the Holocaust\n",
      "International chess tournament\n",
      "Lucifer cipher\n",
      "Mathematica\n",
      "IBM Plex\n",
      "SHARE computing\n",
      "ScicomP\n",
      "Unions\n",
      "Category\n",
      "Commons\n",
      "Navigational boxes\n",
      "FOSS\n",
      "Midrange computers\n",
      "Operating systems\n",
      "Personal computers\n",
      "System/360\n",
      "System/370\n",
      "Typewriters\n",
      "Vacuum tube computers\n",
      "v\n",
      "t\n",
      "e\n",
      "Dow Jones Industrial Average\n",
      "3M\n",
      "Amazon\n",
      "American Express\n",
      "Amgen\n",
      "Apple\n",
      "Boeing\n",
      "Caterpillar\n",
      "Chevron\n",
      "Cisco\n",
      "Coca-Cola\n",
      "Disney\n",
      "Dow\n",
      "Goldman Sachs\n",
      "Home Depot\n",
      "Honeywell\n",
      "IBM\n",
      "Intel\n",
      "Johnson & Johnson\n",
      "JPMorgan Chase\n",
      "McDonald's\n",
      "Merck\n",
      "Microsoft\n",
      "Nike\n",
      "Procter & Gamble\n",
      "Salesforce\n",
      "Travelers\n",
      "UnitedHealth\n",
      "Verizon\n",
      "Visa\n",
      "Walmart\n",
      "v\n",
      "t\n",
      "e\n",
      "Acer\n",
      "Apple\n",
      "Asus\n",
      "Dell\n",
      "Fujitsu\n",
      "Huawei\n",
      "HP\n",
      "Lenovo\n",
      "LG\n",
      "Microsoft\n",
      "MSI\n",
      "NEC\n",
      "Panasonic\n",
      "Razer\n",
      "Samsung\n",
      "Sharp\n",
      "Dynabook\n",
      "Vaio\n",
      "Cisco\n",
      "Dell EMC\n",
      "HPE\n",
      "IBM\n",
      "Inspur\n",
      "NetApp\n",
      "Oracle\n",
      "Fujitsu\n",
      "HPE\n",
      "IBM\n",
      "Largest IT companies\n",
      "Computer hardware manufacturers\n",
      "Home computer hardware companies\n",
      "Server hardware\n",
      "Mainframe computers\n",
      "v\n",
      "t\n",
      "e\n",
      "information storage\n",
      "ADATA\n",
      "Amazon\n",
      "Apple\n",
      "Dell\n",
      "Dell EMC\n",
      "Fujitsu\n",
      "Google\n",
      "Hitachi Data Systems\n",
      "Hewlett Packard Enterprise\n",
      "IBM\n",
      "Kingston Technology\n",
      "Kioxia\n",
      "Microsoft\n",
      "NetApp\n",
      "Oracle\n",
      "Plextor\n",
      "Samsung\n",
      "Seagate\n",
      "Silicon Power\n",
      "Sony\n",
      "Transcend Information\n",
      "Western Digital\n",
      "v\n",
      "t\n",
      "e\n",
      "software\n",
      "Adobe\n",
      "Amadeus IT Group\n",
      "Amazon\n",
      "Apple\n",
      "Autodesk\n",
      "Citrix\n",
      "FIS\n",
      "Google\n",
      "HPE\n",
      "IBM\n",
      "Intuit\n",
      "Infor\n",
      "Microsoft\n",
      "Oracle\n",
      "Quest Software\n",
      "Sage Group\n",
      "SAP\n",
      "Tencent\n",
      "Largest IT companies\n",
      "Largest software companies\n",
      "Category:Software companies\n",
      "v\n",
      "t\n",
      "e\n",
      "Electronics industry in the United States\n",
      "Home appliances\n",
      "Apple\n",
      "Bose\n",
      "Cisco\n",
      "Corsair\n",
      "Dell\n",
      "Dolby Laboratories\n",
      "Element Electronics\n",
      "Emerson Radio\n",
      "Harman\n",
      "Honeywell\n",
      "HP\n",
      "InFocus\n",
      "Jensen Electronics\n",
      "Kenmore\n",
      "Kingston\n",
      "Kimball\n",
      "Koss\n",
      "Lexmark\n",
      "Logitech\n",
      "Magnavox\n",
      "Marantz\n",
      "Memorex\n",
      "Microsoft\n",
      "Monster\n",
      "Plantronics\n",
      "Planar Systems\n",
      "Razer\n",
      "Seagate\n",
      "Seiki Digital\n",
      "Skullcandy\n",
      "Turtle Beach\n",
      "ViewSonic\n",
      "Vizio\n",
      "Western Digital\n",
      "HGST\n",
      "SanDisk\n",
      "Westinghouse Electric Company\n",
      "Westinghouse Electronics\n",
      "Xerox\n",
      "Electronic components\n",
      "3M\n",
      "Achronix\n",
      "Analog Devices\n",
      "Maxim Integrated\n",
      "Applied Materials\n",
      "Altera\n",
      "AVX\n",
      "Cirque\n",
      "Diodes Inc.\n",
      "Flex\n",
      "Jabil\n",
      "KEMET\n",
      "Maxwell Technologies\n",
      "Sanmina\n",
      "Vishay\n",
      "Semiconductor devices\n",
      "AMD\n",
      "Ampere Computing\n",
      "Apple\n",
      "Broadcom\n",
      "Cypress Semiconductor\n",
      "GlobalFoundries\n",
      "IBM\n",
      "Intel\n",
      "Interlink\n",
      "KLA-Tencor\n",
      "Lam Research\n",
      "Lattice\n",
      "Marvell Technology\n",
      "Microchip\n",
      "Atmel\n",
      "Micron\n",
      "NetApp\n",
      "Nimbus Data\n",
      "Nvidia\n",
      "Mellanox\n",
      "NXP\n",
      "onsemi\n",
      "Qualcomm\n",
      "Silicon Image\n",
      "Synaptics\n",
      "Tabula\n",
      "Texas Instruments\n",
      "Xilinx\n",
      "Zilog\n",
      "Mobile devices\n",
      "Apple\n",
      "BLU\n",
      "Google\n",
      "Lenovo\n",
      "Motorola Mobility\n",
      "Cadence Design Systems\n",
      "Cray\n",
      "GE\n",
      "RCA\n",
      "Oracle Corporation\n",
      "Synopsys\n",
      "Actel\n",
      "Atari Corporation\n",
      "Commodore\n",
      "Compaq\n",
      "Fairchild\n",
      "Freescale\n",
      "LSI\n",
      "Microsemi\n",
      "National Semiconductor\n",
      "Palm\n",
      "Philco\n",
      "RCA\n",
      "Signetics\n",
      "Silicon Graphics\n",
      "Solectron\n",
      "Sun Microsystems\n",
      "Zenith Electronics\n",
      "Portals\n",
      "Companies\n",
      "Telecommunication\n",
      "\n",
      "Electronics\n",
      "\n",
      "Technology\n",
      "Authority control databases\n",
      "\n",
      "ISNI\n",
      "VIAF\n",
      "Norway\n",
      "Spain\n",
      "France\n",
      "BnF data\n",
      "Catalonia\n",
      "Germany\n",
      "Israel\n",
      "United States\n",
      "Sweden\n",
      "Latvia\n",
      "Japan\n",
      "Czech Republic\n",
      "Australia\n",
      "Greece\n",
      "Korea\n",
      "Croatia\n",
      "Poland\n",
      "Portugal\n",
      "CiNii\n",
      "MusicBrainz\n",
      "Museum of Modern Art\n",
      "2\n",
      "ULAN\n",
      "Trove\n",
      "SNAC\n",
      "IdRef\n",
      "https://en.wikipedia.org/w/index.php?title=IBM&oldid=1235309791\n",
      "Categories\n",
      "IBM\n",
      "1911 establishments in New York (state)\n",
      "Technology companies established in 1911\n",
      "American companies established in 1911\n",
      "Cloud computing providers\n",
      "Collier Trophy recipients\n",
      "Companies based in Westchester County, New York\n",
      "Companies in the Dow Jones Industrial Average\n",
      "Companies in the Dow Jones Global Titans 50\n",
      "Companies in the S&P 500 Dividend Aristocrats\n",
      "Companies listed on the New York Stock Exchange\n",
      "Computer companies of the United States\n",
      "Computer hardware companies\n",
      "Computer systems companies\n",
      "Data companies\n",
      "Data quality companies\n",
      "Display technology companies\n",
      "Electronics companies of the United States\n",
      "Information technology consulting firms of the United States\n",
      "Multinational companies headquartered in the United States\n",
      "National Medal of Technology recipients\n",
      "Outsourcing companies\n",
      "Point of sale companies\n",
      "Software companies based in New York (state)\n",
      "Storage Area Network companies\n",
      "Software companies of the United States\n",
      "International information technology consulting firms\n",
      "Pages with non-numeric formatnum arguments\n",
      "CS1 German-language sources (de)\n",
      "All articles with dead external links\n",
      "Articles with dead external links from August 2023\n",
      "Articles with permanently dead external links\n",
      "Webarchive template wayback links\n",
      "Articles with dead external links from July 2018\n",
      "Articles with dead external links from March 2018\n",
      "Articles with short description\n",
      "Short description matches Wikidata\n",
      "Use American English from February 2019\n",
      "All Wikipedia articles written in American English\n",
      "Use mdy dates from February 2023\n",
      "Articles containing potentially dated statements from 2016\n",
      "All articles containing potentially dated statements\n",
      "Wikipedia articles containing buzzwords from October 2020\n",
      "Pages using Sister project links with default search\n",
      "OpenCorporates groupings\n",
      "Articles with ISNI identifiers\n",
      "Articles with VIAF identifiers\n",
      "Articles with BIBSYS identifiers\n",
      "Articles with BNE identifiers\n",
      "Articles with BNF identifiers\n",
      "Articles with BNFdata identifiers\n",
      "Articles with CANTICN identifiers\n",
      "Articles with GND identifiers\n",
      "Articles with J9U identifiers\n",
      "Articles with LCCN identifiers\n",
      "Articles with Libris identifiers\n",
      "Articles with LNB identifiers\n",
      "Articles with NDL identifiers\n",
      "Articles with NKC identifiers\n",
      "Articles with NLA identifiers\n",
      "Articles with NLG identifiers\n",
      "Articles with NLK identifiers\n",
      "Articles with NSK identifiers\n",
      "Articles with PLWABN identifiers\n",
      "Articles with PortugalA identifiers\n",
      "Articles with CINII identifiers\n",
      "Articles with MusicBrainz identifiers\n",
      "Articles with MoMA identifiers\n",
      "Articles with ULAN identifiers\n",
      "Articles with Trove identifiers\n",
      "Articles with SNAC-ID identifiers\n",
      "Articles with SUDOC identifiers\n",
      "Creative Commons Attribution-ShareAlike License 4.0\n",
      "\n",
      "Terms of Use\n",
      "Privacy Policy\n",
      "Wikimedia Foundation, Inc.\n",
      "Privacy policy\n",
      "About Wikipedia\n",
      "Disclaimers\n",
      "Contact Wikipedia\n",
      "Code of Conduct\n",
      "Developers\n",
      "Statistics\n",
      "Cookie statement\n",
      "Mobile view\n",
      "\n",
      "\n"
     ]
    }
   ],
   "source": [
    "#NAVIGATING THE HTML STRUCTURE\n",
    "# Find all <a> tags (anchor tags) in the HTML\n",
    "links = soup.find_all('a')\n",
    "\n",
    "# Iterate through the list of links and print their text\n",
    "for link in links:\n",
    "    print(link.text)\n"
   ]
  },
  {
   "cell_type": "code",
   "execution_count": null,
   "id": "2e814f05-cbc9-42f6-9c39-e02c7bdc4fe5",
   "metadata": {},
   "outputs": [],
   "source": []
  }
 ],
 "metadata": {
  "kernelspec": {
   "display_name": "Python 3 (ipykernel)",
   "language": "python",
   "name": "python3"
  },
  "language_info": {
   "codemirror_mode": {
    "name": "ipython",
    "version": 3
   },
   "file_extension": ".py",
   "mimetype": "text/x-python",
   "name": "python",
   "nbconvert_exporter": "python",
   "pygments_lexer": "ipython3",
   "version": "3.12.4"
  }
 },
 "nbformat": 4,
 "nbformat_minor": 5
}
