{
 "cells": [
  {
   "cell_type": "code",
   "execution_count": 1,
   "id": "7cc021a9-bbda-4fe6-af68-a963bd74a9ab",
   "metadata": {},
   "outputs": [],
   "source": [
    "fruit=[\"apple\",\"mango\"]"
   ]
  },
  {
   "cell_type": "code",
   "execution_count": 3,
   "id": "75dd1aea-08e7-4487-8040-ff87137e1bb2",
   "metadata": {},
   "outputs": [
    {
     "data": {
      "text/plain": [
       "['apple', 'mango']"
      ]
     },
     "execution_count": 3,
     "metadata": {},
     "output_type": "execute_result"
    }
   ],
   "source": [
    "fruit"
   ]
  },
  {
   "cell_type": "code",
   "execution_count": 5,
   "id": "43cc44ba-82b4-483a-90ad-89ec89bfac55",
   "metadata": {},
   "outputs": [],
   "source": [
    "fruit.extend(\"Kiwi\")"
   ]
  },
  {
   "cell_type": "code",
   "execution_count": 7,
   "id": "8f15d1a7-2f97-4e7c-ad84-b5fec735f788",
   "metadata": {},
   "outputs": [
    {
     "data": {
      "text/plain": [
       "['apple', 'mango', 'K', 'i', 'w', 'i']"
      ]
     },
     "execution_count": 7,
     "metadata": {},
     "output_type": "execute_result"
    }
   ],
   "source": [
    "fruit"
   ]
  },
  {
   "cell_type": "code",
   "execution_count": 9,
   "id": "0bca0b32-f3f3-492b-ba96-089c5b9458f0",
   "metadata": {},
   "outputs": [],
   "source": [
    "del(fruit[2:6])"
   ]
  },
  {
   "cell_type": "code",
   "execution_count": 11,
   "id": "e28dd063-87df-469f-8a95-520636e6ea08",
   "metadata": {},
   "outputs": [
    {
     "data": {
      "text/plain": [
       "['apple', 'mango']"
      ]
     },
     "execution_count": 11,
     "metadata": {},
     "output_type": "execute_result"
    }
   ],
   "source": [
    "fruit"
   ]
  },
  {
   "cell_type": "code",
   "execution_count": 13,
   "id": "c11b5f96-91fc-4dc5-991c-aa0687851faa",
   "metadata": {},
   "outputs": [],
   "source": [
    "fruit.append(\"kiwi\")"
   ]
  },
  {
   "cell_type": "code",
   "execution_count": 15,
   "id": "7e611020-3f22-4030-8897-dcbc0f710267",
   "metadata": {},
   "outputs": [
    {
     "data": {
      "text/plain": [
       "['apple', 'mango', 'kiwi']"
      ]
     },
     "execution_count": 15,
     "metadata": {},
     "output_type": "execute_result"
    }
   ],
   "source": [
    "fruit"
   ]
  },
  {
   "cell_type": "code",
   "execution_count": 17,
   "id": "9f5887b1-ca40-4583-9260-ac37067b4c39",
   "metadata": {},
   "outputs": [],
   "source": [
    "new=fruit.copy()"
   ]
  },
  {
   "cell_type": "code",
   "execution_count": 19,
   "id": "c6b632e6-8236-4222-941e-9bef4665c22a",
   "metadata": {},
   "outputs": [
    {
     "data": {
      "text/plain": [
       "['apple', 'mango', 'kiwi']"
      ]
     },
     "execution_count": 19,
     "metadata": {},
     "output_type": "execute_result"
    }
   ],
   "source": [
    "new"
   ]
  },
  {
   "cell_type": "code",
   "execution_count": 21,
   "id": "b2e7cce8-9ad1-4416-880c-ed2c1fda7c1d",
   "metadata": {},
   "outputs": [],
   "source": [
    "fruit[1]=\"banana\""
   ]
  },
  {
   "cell_type": "code",
   "execution_count": 23,
   "id": "0689570d-ae28-4c55-8578-1f5d4e0fc030",
   "metadata": {},
   "outputs": [
    {
     "data": {
      "text/plain": [
       "['apple', 'banana', 'kiwi']"
      ]
     },
     "execution_count": 23,
     "metadata": {},
     "output_type": "execute_result"
    }
   ],
   "source": [
    "fruit"
   ]
  },
  {
   "cell_type": "code",
   "execution_count": 25,
   "id": "122ed6f4-8372-466c-80db-e81d8d342d14",
   "metadata": {},
   "outputs": [
    {
     "data": {
      "text/plain": [
       "['apple', 'mango', 'kiwi']"
      ]
     },
     "execution_count": 25,
     "metadata": {},
     "output_type": "execute_result"
    }
   ],
   "source": [
    "new"
   ]
  },
  {
   "cell_type": "code",
   "execution_count": 27,
   "id": "6902c338-48c8-4f68-bb27-413fde0e82db",
   "metadata": {},
   "outputs": [],
   "source": [
    "new = fruit"
   ]
  },
  {
   "cell_type": "code",
   "execution_count": 29,
   "id": "2d2704bf-f8e3-448e-a9cc-8ce74d3e592d",
   "metadata": {},
   "outputs": [
    {
     "data": {
      "text/plain": [
       "['apple', 'banana', 'kiwi']"
      ]
     },
     "execution_count": 29,
     "metadata": {},
     "output_type": "execute_result"
    }
   ],
   "source": [
    "new"
   ]
  },
  {
   "cell_type": "code",
   "execution_count": 31,
   "id": "6cad419b-3126-49d7-8387-bc2d944ca7ee",
   "metadata": {},
   "outputs": [],
   "source": [
    "fruit.append(\"apple\")"
   ]
  },
  {
   "cell_type": "code",
   "execution_count": 33,
   "id": "0783d652-b630-4d00-801d-2a36ae4b3a26",
   "metadata": {},
   "outputs": [
    {
     "data": {
      "text/plain": [
       "['apple', 'banana', 'kiwi', 'apple']"
      ]
     },
     "execution_count": 33,
     "metadata": {},
     "output_type": "execute_result"
    }
   ],
   "source": [
    "fruit"
   ]
  },
  {
   "cell_type": "code",
   "execution_count": 35,
   "id": "bfc073d1-0a9b-4bf3-98aa-74c14f1f5163",
   "metadata": {},
   "outputs": [
    {
     "data": {
      "text/plain": [
       "['apple', 'banana', 'kiwi', 'apple']"
      ]
     },
     "execution_count": 35,
     "metadata": {},
     "output_type": "execute_result"
    }
   ],
   "source": [
    "new"
   ]
  },
  {
   "cell_type": "code",
   "execution_count": 37,
   "id": "8802beb3-fd80-499d-b8a8-b526d9d2b150",
   "metadata": {},
   "outputs": [],
   "source": [
    "letscount= fruit.count('apple')"
   ]
  },
  {
   "cell_type": "code",
   "execution_count": 41,
   "id": "43c9ded8-3b4c-47e1-9ca7-ae7fd54f5f60",
   "metadata": {},
   "outputs": [
    {
     "data": {
      "text/plain": [
       "2"
      ]
     },
     "execution_count": 41,
     "metadata": {},
     "output_type": "execute_result"
    }
   ],
   "source": [
    "letscount"
   ]
  },
  {
   "cell_type": "code",
   "execution_count": 57,
   "id": "c77eb2df-c302-41f8-a22a-a64cedf7e7ae",
   "metadata": {},
   "outputs": [
    {
     "data": {
      "text/plain": [
       "[1, 2, 6, 3, 4, 5]"
      ]
     },
     "execution_count": 57,
     "metadata": {},
     "output_type": "execute_result"
    }
   ],
   "source": [
    "num = [1,2,3,4,5]\n",
    "num.insert(2,6)\n",
    "num"
   ]
  },
  {
   "cell_type": "code",
   "execution_count": 59,
   "id": "06965cb4-bff9-452d-854c-1e37159aa826",
   "metadata": {},
   "outputs": [
    {
     "data": {
      "text/plain": [
       "5"
      ]
     },
     "execution_count": 59,
     "metadata": {},
     "output_type": "execute_result"
    }
   ],
   "source": [
    "rem=num.pop()\n",
    "rem"
   ]
  },
  {
   "cell_type": "code",
   "execution_count": 61,
   "id": "b5d34ff7-d5e7-4c22-bc10-e0b743f2c027",
   "metadata": {},
   "outputs": [
    {
     "data": {
      "text/plain": [
       "[1, 2, 6, 3, 4]"
      ]
     },
     "execution_count": 61,
     "metadata": {},
     "output_type": "execute_result"
    }
   ],
   "source": [
    "num"
   ]
  },
  {
   "cell_type": "code",
   "execution_count": 65,
   "id": "9cbb04ff-bae8-437f-91cb-ea16d0c482d3",
   "metadata": {},
   "outputs": [
    {
     "data": {
      "text/plain": [
       "[1, 3, 4]"
      ]
     },
     "execution_count": 65,
     "metadata": {},
     "output_type": "execute_result"
    }
   ],
   "source": [
    "rem=num.pop(1)\n",
    "rem\n",
    "num"
   ]
  },
  {
   "cell_type": "code",
   "execution_count": 69,
   "id": "4c5e200a-901c-416a-be48-cd07d5f2a58f",
   "metadata": {},
   "outputs": [],
   "source": [
    "num.append([3,26])"
   ]
  },
  {
   "cell_type": "code",
   "execution_count": 71,
   "id": "cbf07cb0-52e0-4e96-9499-a3dc22c9bdd7",
   "metadata": {},
   "outputs": [
    {
     "data": {
      "text/plain": [
       "[1, 3, 4, [3, 26]]"
      ]
     },
     "execution_count": 71,
     "metadata": {},
     "output_type": "execute_result"
    }
   ],
   "source": [
    "num"
   ]
  },
  {
   "cell_type": "code",
   "execution_count": 73,
   "id": "7036a33e-2e0e-42c5-acf4-f59abb409712",
   "metadata": {},
   "outputs": [],
   "source": [
    "rem=num.remove(3)"
   ]
  },
  {
   "cell_type": "code",
   "execution_count": 77,
   "id": "7682c7a7-3487-420e-854d-0bec292e3ea2",
   "metadata": {},
   "outputs": [],
   "source": [
    "rem"
   ]
  },
  {
   "cell_type": "code",
   "execution_count": 79,
   "id": "d53baa65-7422-456a-a476-ba5b2bfcb430",
   "metadata": {},
   "outputs": [
    {
     "data": {
      "text/plain": [
       "[1, 4, [3, 26]]"
      ]
     },
     "execution_count": 79,
     "metadata": {},
     "output_type": "execute_result"
    }
   ],
   "source": [
    "num"
   ]
  },
  {
   "cell_type": "code",
   "execution_count": 81,
   "id": "8ff45c43-2b5a-4b92-9d1c-d3ef4c08de8f",
   "metadata": {},
   "outputs": [],
   "source": [
    "rev=num.reverse()"
   ]
  },
  {
   "cell_type": "code",
   "execution_count": 83,
   "id": "32f23a57-95cc-4e70-ade9-6a073bdc8f7d",
   "metadata": {},
   "outputs": [],
   "source": [
    "rev"
   ]
  },
  {
   "cell_type": "code",
   "execution_count": 85,
   "id": "14ff8e11-156a-400d-86c5-c05ef6609a5f",
   "metadata": {},
   "outputs": [
    {
     "data": {
      "text/plain": [
       "[[3, 26], 4, 1]"
      ]
     },
     "execution_count": 85,
     "metadata": {},
     "output_type": "execute_result"
    }
   ],
   "source": [
    "num"
   ]
  },
  {
   "cell_type": "code",
   "execution_count": 87,
   "id": "c1d17993-cf1d-4c47-b8d0-18f6b3712a41",
   "metadata": {},
   "outputs": [],
   "source": [
    "slice=[11,20,38,49,68]"
   ]
  },
  {
   "cell_type": "code",
   "execution_count": 89,
   "id": "0579744b-b2aa-42a1-adbb-2d05a24c5baa",
   "metadata": {},
   "outputs": [
    {
     "data": {
      "text/plain": [
       "[11, 20, 38]"
      ]
     },
     "execution_count": 89,
     "metadata": {},
     "output_type": "execute_result"
    }
   ],
   "source": [
    "slice[:3]"
   ]
  },
  {
   "cell_type": "code",
   "execution_count": 91,
   "id": "ac58a4ee-7153-4082-a1d8-ba281412a3fa",
   "metadata": {},
   "outputs": [
    {
     "data": {
      "text/plain": [
       "[38, 49, 68]"
      ]
     },
     "execution_count": 91,
     "metadata": {},
     "output_type": "execute_result"
    }
   ],
   "source": [
    "slice[2:]"
   ]
  },
  {
   "cell_type": "code",
   "execution_count": 95,
   "id": "3310b6c2-3bdc-4a9f-b84e-d0ecd71e8f82",
   "metadata": {},
   "outputs": [
    {
     "data": {
      "text/plain": [
       "[11, 38, 68]"
      ]
     },
     "execution_count": 95,
     "metadata": {},
     "output_type": "execute_result"
    }
   ],
   "source": [
    "slice[::2]"
   ]
  },
  {
   "cell_type": "code",
   "execution_count": 97,
   "id": "50904cac-cf12-45d9-9ada-82dd6bb3d8e0",
   "metadata": {},
   "outputs": [
    {
     "data": {
      "text/plain": [
       "[11, 20, 38, 49, 68]"
      ]
     },
     "execution_count": 97,
     "metadata": {},
     "output_type": "execute_result"
    }
   ],
   "source": [
    "slice[::1]"
   ]
  },
  {
   "cell_type": "code",
   "execution_count": 99,
   "id": "c7357acb-9bca-4687-9c35-ddd0af54d1f5",
   "metadata": {},
   "outputs": [
    {
     "data": {
      "text/plain": [
       "[11, 68]"
      ]
     },
     "execution_count": 99,
     "metadata": {},
     "output_type": "execute_result"
    }
   ],
   "source": [
    "slice[::4]"
   ]
  },
  {
   "cell_type": "code",
   "execution_count": 101,
   "id": "6610e328-164c-4be8-8ac8-27efdaf10027",
   "metadata": {},
   "outputs": [
    {
     "data": {
      "text/plain": [
       "[11, 20, 38, 49, 68]"
      ]
     },
     "execution_count": 101,
     "metadata": {},
     "output_type": "execute_result"
    }
   ],
   "source": [
    "slice.sort()\n",
    "slice"
   ]
  },
  {
   "cell_type": "code",
   "execution_count": 103,
   "id": "2bcb98a5-e735-4632-9570-1eab040fbb5f",
   "metadata": {},
   "outputs": [
    {
     "data": {
      "text/plain": [
       "[68, 49, 38, 20, 11]"
      ]
     },
     "execution_count": 103,
     "metadata": {},
     "output_type": "execute_result"
    }
   ],
   "source": [
    "slice.sort(reverse=True)\n",
    "slice"
   ]
  },
  {
   "cell_type": "code",
   "execution_count": 107,
   "id": "db75cf9b-26b1-4cdf-9bc8-44900f70aec1",
   "metadata": {},
   "outputs": [],
   "source": [
    "trial=sorted(slice)"
   ]
  },
  {
   "cell_type": "code",
   "execution_count": 109,
   "id": "154b0aeb-b85a-4615-a08b-78dfdabc692b",
   "metadata": {},
   "outputs": [
    {
     "data": {
      "text/plain": [
       "[11, 20, 38, 49, 68]"
      ]
     },
     "execution_count": 109,
     "metadata": {},
     "output_type": "execute_result"
    }
   ],
   "source": [
    "trial"
   ]
  },
  {
   "cell_type": "code",
   "execution_count": 114,
   "id": "e21f1078-f5c0-46da-b14b-ffd7f035e8ec",
   "metadata": {},
   "outputs": [],
   "source": [
    "A=[1]"
   ]
  },
  {
   "cell_type": "code",
   "execution_count": 116,
   "id": "ff5d50da-9237-4932-ae99-020e97cb7d28",
   "metadata": {},
   "outputs": [],
   "source": [
    "A.append([2,3,4,5])"
   ]
  },
  {
   "cell_type": "code",
   "execution_count": 118,
   "id": "14e189ac-4ddc-4b46-a7fb-d261a70c8646",
   "metadata": {},
   "outputs": [
    {
     "data": {
      "text/plain": [
       "2"
      ]
     },
     "execution_count": 118,
     "metadata": {},
     "output_type": "execute_result"
    }
   ],
   "source": [
    "len(A)"
   ]
  },
  {
   "cell_type": "code",
   "execution_count": 120,
   "id": "f9d3e60b-a5ed-4987-9cf5-9efbd8980f9e",
   "metadata": {},
   "outputs": [],
   "source": [
    "Dict={\"A\":1,\"B\":\"2\",\"C\":[3,3,3],\"D\":(4,4,4),'E':5,'F':6}"
   ]
  },
  {
   "cell_type": "code",
   "execution_count": 122,
   "id": "fafc3cc1-f611-4fb5-8b42-d74483c3f534",
   "metadata": {},
   "outputs": [
    {
     "data": {
      "text/plain": [
       "['A', 'B', 'C', 'D', 'E', 'F']"
      ]
     },
     "execution_count": 122,
     "metadata": {},
     "output_type": "execute_result"
    }
   ],
   "source": [
    "list(Dict.keys())"
   ]
  },
  {
   "cell_type": "code",
   "execution_count": 124,
   "id": "c622db70-1734-4932-8a64-0651c186c6e3",
   "metadata": {},
   "outputs": [],
   "source": [
    "person = { \"name\": \"John\",  \"age\": 30, \"city\": \"New York\"}"
   ]
  },
  {
   "cell_type": "code",
   "execution_count": 127,
   "id": "90d204af-ac11-4ae1-9c87-07aa4f13c4ef",
   "metadata": {},
   "outputs": [],
   "source": [
    "name = person[\"name\"]"
   ]
  },
  {
   "cell_type": "code",
   "execution_count": 129,
   "id": "51820af0-34c9-4ba5-a76c-fffc93f7e0d5",
   "metadata": {},
   "outputs": [
    {
     "data": {
      "text/plain": [
       "'John'"
      ]
     },
     "execution_count": 129,
     "metadata": {},
     "output_type": "execute_result"
    }
   ],
   "source": [
    "name"
   ]
  },
  {
   "cell_type": "code",
   "execution_count": 131,
   "id": "a4e00e21-83c3-4a02-929f-3f7e73171adf",
   "metadata": {},
   "outputs": [],
   "source": [
    "johnage=person[\"age\"]"
   ]
  },
  {
   "cell_type": "code",
   "execution_count": 133,
   "id": "ca440cb5-31c2-42b7-b5dd-18511a05b2f5",
   "metadata": {},
   "outputs": [
    {
     "data": {
      "text/plain": [
       "30"
      ]
     },
     "execution_count": 133,
     "metadata": {},
     "output_type": "execute_result"
    }
   ],
   "source": [
    "johnage"
   ]
  },
  {
   "cell_type": "code",
   "execution_count": 135,
   "id": "b82d787b-6cac-4bf6-a9cc-78d9b1442b42",
   "metadata": {},
   "outputs": [],
   "source": [
    "fruits = {\"apple\", \"banana\", \"orange\"}"
   ]
  },
  {
   "cell_type": "code",
   "execution_count": 137,
   "id": "0ff94f38-e4f4-401a-8e2f-e8ba7fcf9210",
   "metadata": {},
   "outputs": [
    {
     "data": {
      "text/plain": [
       "{'banana', 'orange'}"
      ]
     },
     "execution_count": 137,
     "metadata": {},
     "output_type": "execute_result"
    }
   ],
   "source": [
    "fruits.discard(\"apple\")\n",
    "fruits"
   ]
  },
  {
   "cell_type": "code",
   "execution_count": 139,
   "id": "fef9da78-c061-4311-9c34-0445313722c4",
   "metadata": {},
   "outputs": [
    {
     "data": {
      "text/plain": [
       "{'apple', 'banana', 'orange'}"
      ]
     },
     "execution_count": 139,
     "metadata": {},
     "output_type": "execute_result"
    }
   ],
   "source": [
    "fruits.add(\"apple\")\n",
    "fruits"
   ]
  },
  {
   "cell_type": "code",
   "execution_count": 141,
   "id": "661ab33f-b3f5-453c-a9a6-4173bf5c8097",
   "metadata": {},
   "outputs": [
    {
     "data": {
      "text/plain": [
       "'orange'"
      ]
     },
     "execution_count": 141,
     "metadata": {},
     "output_type": "execute_result"
    }
   ],
   "source": [
    "rem=fruits.pop()\n",
    "rem"
   ]
  },
  {
   "cell_type": "code",
   "execution_count": 143,
   "id": "cc83ab55-f4dc-460b-b646-f33047600139",
   "metadata": {},
   "outputs": [
    {
     "data": {
      "text/plain": [
       "{'apple', 'banana'}"
      ]
     },
     "execution_count": 143,
     "metadata": {},
     "output_type": "execute_result"
    }
   ],
   "source": [
    "fruits"
   ]
  },
  {
   "cell_type": "code",
   "execution_count": 145,
   "id": "31e5d257-72e5-42f8-bd04-700b2b138209",
   "metadata": {},
   "outputs": [
    {
     "data": {
      "text/plain": [
       "{'apple', 'banana', 'kiwi'}"
      ]
     },
     "execution_count": 145,
     "metadata": {},
     "output_type": "execute_result"
    }
   ],
   "source": [
    "fruits.add(\"kiwi\")\n",
    "fruits"
   ]
  },
  {
   "cell_type": "code",
   "execution_count": 147,
   "id": "0c612f4c-4f3e-43ae-992d-0a2b05969d8b",
   "metadata": {},
   "outputs": [
    {
     "data": {
      "text/plain": [
       "{'apple', 'kiwi'}"
      ]
     },
     "execution_count": 147,
     "metadata": {},
     "output_type": "execute_result"
    }
   ],
   "source": [
    "fruits.remove(\"banana\")\n",
    "fruits"
   ]
  },
  {
   "cell_type": "code",
   "execution_count": 149,
   "id": "5dfb13a6-c7cb-417c-adc1-f437e3e1ecaa",
   "metadata": {},
   "outputs": [],
   "source": [
    "fruits.update([\"kiwi\", \"grape\"])"
   ]
  },
  {
   "cell_type": "code",
   "execution_count": 151,
   "id": "bde10f28-e5fe-4c8e-b2d8-2fa0b7843e7a",
   "metadata": {},
   "outputs": [
    {
     "data": {
      "text/plain": [
       "{'apple', 'grape', 'kiwi'}"
      ]
     },
     "execution_count": 151,
     "metadata": {},
     "output_type": "execute_result"
    }
   ],
   "source": [
    "fruits"
   ]
  },
  {
   "cell_type": "code",
   "execution_count": 153,
   "id": "fa0eb97a-1792-40ce-9cf1-55a4c9b8bc27",
   "metadata": {},
   "outputs": [
    {
     "data": {
      "text/plain": [
       "5"
      ]
     },
     "execution_count": 153,
     "metadata": {},
     "output_type": "execute_result"
    }
   ],
   "source": [
    " len((\"disco\",10,1.2, \"hard rock\",10))"
   ]
  },
  {
   "cell_type": "code",
   "execution_count": 9,
   "id": "2e7cd9c2-6185-479a-87a5-7faede6182c9",
   "metadata": {},
   "outputs": [
    {
     "name": "stdout",
     "output_type": "stream",
     "text": [
      "a\n",
      "y\n"
     ]
    }
   ],
   "source": [
    "lists=[\"W\",\"a\",\"y\"]\n",
    "for i in range(1,3):\n",
    "    print(lists[i])"
   ]
  },
  {
   "cell_type": "code",
   "execution_count": 15,
   "id": "90380c09-5255-4ec7-aad7-4bb1b7051532",
   "metadata": {},
   "outputs": [
    {
     "name": "stdout",
     "output_type": "stream",
     "text": [
      "At position 0, I found a apple\n",
      "At position 1, I found a banana\n",
      "At position 2, I found a orange\n"
     ]
    }
   ],
   "source": [
    "fruits = [\"apple\", \"banana\", \"orange\"]\n",
    "for index, fruit in enumerate(fruits):\n",
    "    print(f\"At position {index}, I found a {fruit}\")"
   ]
  },
  {
   "cell_type": "code",
   "execution_count": 25,
   "id": "e6d4ab16-93ef-464e-995e-19a4b145b59b",
   "metadata": {},
   "outputs": [
    {
     "name": "stdout",
     "output_type": "stream",
     "text": [
      "10\n",
      "9.5\n",
      "10\n",
      "8\n",
      "7.5\n"
     ]
    }
   ],
   "source": [
    "PlayListRatings = [10, 9.5, 10, 8, 7.5, 5, 10, 10]\n",
    "i = 0\n",
    "rating = PlayListRatings[0]\n",
    "while(i < len(PlayListRatings) and rating >= 6):\n",
    "    print(rating)\n",
    "    i = i + 1 \n",
    "    rating = PlayListRatings[i]  "
   ]
  },
  {
   "cell_type": "code",
   "execution_count": 39,
   "id": "5fd46125-c1b9-4408-ac33-58c81bcf1cc2",
   "metadata": {},
   "outputs": [
    {
     "name": "stdout",
     "output_type": "stream",
     "text": [
      "['orange', 'orange']\n"
     ]
    }
   ],
   "source": [
    "squares = ['orange', 'orange', 'purple', 'blue ', 'orange']\n",
    "new_squares = []\n",
    "i = 0\n",
    "while(i < len(squares) and squares[i] == 'orange'):\n",
    "    new_squares.append(squares[i])\n",
    "    i = i + 1\n",
    "print (new_squares)"
   ]
  },
  {
   "cell_type": "code",
   "execution_count": 67,
   "id": "7a50ae54-22da-424b-af8c-d44f7880e156",
   "metadata": {},
   "outputs": [
    {
     "name": "stdout",
     "output_type": "stream",
     "text": [
      "6 * 1 = 6\n",
      "6 * 2 = 12\n",
      "6 * 3 = 18\n",
      "6 * 4 = 24\n",
      "6 * 5 = 30\n",
      "6 * 6 = 36\n",
      "6 * 7 = 42\n",
      "6 * 8 = 48\n",
      "6 * 9 = 54\n",
      "6 * 10 = 60\n",
      "7 * 1 = 7\n",
      "7 * 2 = 14\n",
      "7 * 3 = 21\n",
      "7 * 4 = 28\n",
      "7 * 5 = 35\n",
      "7 * 6 = 42\n",
      "7 * 7 = 49\n",
      "7 * 8 = 56\n",
      "7 * 9 = 63\n",
      "7 * 10 = 70\n"
     ]
    }
   ],
   "source": [
    "# Write your code here\n",
    "i\n",
    "j=6\n",
    "n=7\n",
    "for i in range (1,11):\n",
    "    print(j,\"*\",i,\"=\",j*i)\n",
    "for i in range (1,11):\n",
    "        print(n,\"*\",i,\"=\",n*i)"
   ]
  },
  {
   "cell_type": "code",
   "execution_count": 87,
   "id": "932a58c3-ef2b-4db9-84f9-826622cb2ceb",
   "metadata": {},
   "outputs": [
    {
     "name": "stdout",
     "output_type": "stream",
     "text": [
      "['giraffe', 'gorilla', 'parrots']\n"
     ]
    }
   ],
   "source": [
    "Animals = [\"lion\", \"giraffe\", \"gorilla\", \"parrots\", \"crocodile\", \"deer\", \"swan\"]\n",
    "i = 0\n",
    "new = []\n",
    "\n",
    "while i < len(Animals):\n",
    "    if len(Animals[i]) == 7:\n",
    "        new.append(Animals[i])\n",
    "    i += 1\n",
    "\n",
    "print(new)\n"
   ]
  },
  {
   "cell_type": "code",
   "execution_count": 89,
   "id": "8b3c6a5e-d672-4b5b-8145-5fae93fb4de8",
   "metadata": {},
   "outputs": [
    {
     "name": "stdout",
     "output_type": "stream",
     "text": [
      "AA\n",
      "BA\n",
      "CA\n"
     ]
    }
   ],
   "source": [
    "for x in ['A', 'B', 'C']:\n",
    "    print(x + 'A')"
   ]
  },
  {
   "cell_type": "code",
   "execution_count": 95,
   "id": "1cc5d745-ce7c-49e7-8b61-77055f15e9aa",
   "metadata": {},
   "outputs": [
    {
     "name": "stdout",
     "output_type": "stream",
     "text": [
      "1\n",
      "2\n"
     ]
    }
   ],
   "source": [
    "for num in range(1, 6):\n",
    "    if num == 3:\n",
    "        break\n",
    "    print(num)"
   ]
  },
  {
   "cell_type": "code",
   "execution_count": 97,
   "id": "5c74560f-f226-4282-a5e7-6fdedab9f81e",
   "metadata": {},
   "outputs": [
    {
     "name": "stdout",
     "output_type": "stream",
     "text": [
      "1\n",
      "2\n",
      "4\n",
      "5\n"
     ]
    }
   ],
   "source": [
    "for num in range(1, 6):\n",
    "    if num == 3:\n",
    "        continue\n",
    "    print(num)"
   ]
  },
  {
   "cell_type": "code",
   "execution_count": null,
   "id": "af32f4a0-e017-4a96-be87-57819cc08b3b",
   "metadata": {},
   "outputs": [],
   "source": []
  },
  {
   "cell_type": "code",
   "execution_count": null,
   "id": "a54729e6-91a8-4aaf-9f6a-47920ec7ec10",
   "metadata": {},
   "outputs": [],
   "source": []
  }
 ],
 "metadata": {
  "kernelspec": {
   "display_name": "Python 3 (ipykernel)",
   "language": "python",
   "name": "python3"
  },
  "language_info": {
   "codemirror_mode": {
    "name": "ipython",
    "version": 3
   },
   "file_extension": ".py",
   "mimetype": "text/x-python",
   "name": "python",
   "nbconvert_exporter": "python",
   "pygments_lexer": "ipython3",
   "version": "3.12.4"
  }
 },
 "nbformat": 4,
 "nbformat_minor": 5
}
