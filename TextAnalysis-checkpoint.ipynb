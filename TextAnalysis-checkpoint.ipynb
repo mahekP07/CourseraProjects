{
 "cells": [
  {
   "cell_type": "markdown",
   "id": "ca735308-48b1-4c0b-bde6-b5f86c00462a",
   "metadata": {},
   "source": [
    "                                                                Text Analysis\n",
    "\n",
    "Text analysis, also known as text mining or text analytics, refers to the process of extracting meaningful information and insights from textual data.\n",
    "\n",
    "Let's consider a real-life scenario where you are analyzing customer feedback for a product. You have a large data set of customer reviews in the form of strings, and you want to extract useful information from them using the three identified tasks:\r\n",
    "\r\n",
    "Task 1. String in lowercase: You want to pre-process the customer feedback by converting all the text to lowercase. This step helps standardize the textThe l Lower casinof g the text allows you to focus on the content rather than the specific letter casing.\r\n",
    "\r\n",
    "Task 2. Frequency of all words in a given string: After converting the text to lowercase, you want to determine the frequency of each word in the customer feedback. This information will help you identify which words are used more frequently, indicating the key aspects or  topcustomers menionning in their reviews. By analyzing the word frequencies, you can gain insights into the most common issues raised by customers.\r\n",
    "\r\n",
    "Task 3. Frequency of a specific word: In addition to analyzing the overall word frequencies, ychatrack the frequency of a particula tr wordhat is relevant to your analysis. For example, you might be interested in monitoringthe  how  word \"reliable\" appears in customer reviews to gauge customer sentiment about the product's reliability. By focusing on the frequency of a specific word, you can gain a deeper understanding of customer opinions or preferences related to that particular aspect."
   ]
  },
  {
   "cell_type": "markdown",
   "id": "7154e028-f66e-4672-a7d0-ec9ab2ccb9d3",
   "metadata": {},
   "source": [
    "Define the given string\n",
    "\"Lorem ipsum dolor! diam amet, consetetur Lorem magna. sed diam nonumy eirmod tempor. diam et labore? et diam magna. et diam amet.\""
   ]
  },
  {
   "cell_type": "code",
   "execution_count": 18,
   "id": "3965d5cb-4668-47c9-a37f-215561b0aaa0",
   "metadata": {},
   "outputs": [],
   "source": [
    "givenstring=\"Lorem ipsum dolor! diam amet, consetetur Lorem magna. sed diam nonumy eirmod tempor. diam et labore? et diam magna. et diam amet.\""
   ]
  },
  {
   "cell_type": "code",
   "execution_count": 13,
   "id": "8a897a67-4751-4667-8c19-f24826e4799d",
   "metadata": {},
   "outputs": [],
   "source": [
    "class TextAnalyzer(object):\n",
    "    \n",
    "    def __init__ (self, text):\n",
    "        # remove punctuation\n",
    "        formattedText = text.replace('.','').replace('!','').replace('?','').replace(',','')\n",
    "        \n",
    "        # make text lowercase\n",
    "        formattedText = formattedText.lower()\n",
    "        \n",
    "        self.fmtText = formattedText\n",
    "        \n",
    "    def freqAll(self):        \n",
    "        # split text into words\n",
    "        wordList = self.fmtText.split(' ')\n",
    "        \n",
    "        # Create dictionary\n",
    "        freqMap = {}\n",
    "        for word in set(wordList): # use set to remove duplicates in list\n",
    "            freqMap[word] = wordList.count(word)\n",
    "        \n",
    "        return freqMap\n",
    "    \n",
    "    def freqOf(self,word):\n",
    "        # get frequency map\n",
    "        freqDict = self.freqAll()\n",
    "        \n",
    "        if word in freqDict:\n",
    "            return freqDict[word]\n",
    "        else:\n",
    "            return 0"
   ]
  },
  {
   "cell_type": "markdown",
   "id": "8d2185c3-2cd8-498e-9fb7-8356191b4577",
   "metadata": {},
   "source": [
    "Coding for the function call for above methods"
   ]
  },
  {
   "cell_type": "code",
   "execution_count": 23,
   "id": "e8d198e5-80af-41ad-b860-4cd1bff15ea6",
   "metadata": {},
   "outputs": [],
   "source": [
    "#code for creating an instance of TextAnalyzer class\n",
    "analyzed = TextAnalyzer(givenstring) "
   ]
  },
  {
   "cell_type": "code",
   "execution_count": 25,
   "id": "e5e33fda-024e-4350-a821-08ca61ca0d7c",
   "metadata": {},
   "outputs": [
    {
     "name": "stdout",
     "output_type": "stream",
     "text": [
      "Formatted Text: lorem ipsum dolor diam amet consetetur lorem magna sed diam nonumy eirmod tempor diam et labore et diam magna et diam amet\n"
     ]
    }
   ],
   "source": [
    "#Calling the function that converts the data into lowercase\n",
    "print(\"Formatted Text:\", analyzed.fmtText)"
   ]
  },
  {
   "cell_type": "code",
   "execution_count": 27,
   "id": "aefeb8d6-0c62-463b-b9ff-efd7f240132c",
   "metadata": {},
   "outputs": [
    {
     "name": "stdout",
     "output_type": "stream",
     "text": [
      "{'amet': 2, 'sed': 1, 'nonumy': 1, 'ipsum': 1, 'diam': 5, 'dolor': 1, 'eirmod': 1, 'tempor': 1, 'lorem': 2, 'et': 3, 'magna': 2, 'consetetur': 1, 'labore': 1}\n"
     ]
    }
   ],
   "source": [
    "#Calling the function that counts the frequency of all unique words from the data\n",
    "freqMap = analyzed.freqAll()\n",
    "print(freqMap)"
   ]
  },
  {
   "cell_type": "code",
   "execution_count": 29,
   "id": "f5c9653e-6e58-458a-a98c-020cb6f4bc95",
   "metadata": {},
   "outputs": [
    {
     "name": "stdout",
     "output_type": "stream",
     "text": [
      "The word lorem appears 2 times.\n"
     ]
    }
   ],
   "source": [
    "#Calling the function that counts the frequency of a specific word\n",
    "word = \"lorem\"\n",
    "frequency = analyzed.freqOf(word)\n",
    "print(\"The word\",word,\"appears\",frequency,\"times.\")"
   ]
  },
  {
   "cell_type": "code",
   "execution_count": null,
   "id": "1c368d8f-4085-481b-a453-233087252d83",
   "metadata": {},
   "outputs": [],
   "source": []
  }
 ],
 "metadata": {
  "kernelspec": {
   "display_name": "Python 3 (ipykernel)",
   "language": "python",
   "name": "python3"
  },
  "language_info": {
   "codemirror_mode": {
    "name": "ipython",
    "version": 3
   },
   "file_extension": ".py",
   "mimetype": "text/x-python",
   "name": "python",
   "nbconvert_exporter": "python",
   "pygments_lexer": "ipython3",
   "version": "3.12.4"
  }
 },
 "nbformat": 4,
 "nbformat_minor": 5
}
